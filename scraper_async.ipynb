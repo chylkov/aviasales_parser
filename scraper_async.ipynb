{
 "cells": [
  {
   "cell_type": "code",
   "execution_count": 1,
   "id": "b73dad56",
   "metadata": {},
   "outputs": [],
   "source": [
    "#https://scrapfly.io/blog/web-scraping-with-selenium-and-python/\n",
    "# https://stackoverflow.com/questions/53475578/python-selenium-multiprocessing"
   ]
  },
  {
   "cell_type": "markdown",
   "id": "f67fa918",
   "metadata": {},
   "source": [
    "TODO\n",
    "- явно есть ошибки не корретного парсинга, можно найти кейсы по дешевым билетам\n",
    "- подумать может сделать без селениума\n",
    "- на сервер запустить скрипт"
   ]
  },
  {
   "cell_type": "code",
   "execution_count": 2,
   "id": "f73cab85",
   "metadata": {},
   "outputs": [],
   "source": [
    "\n",
    "import os\n",
    "import json\n",
    "import asyncio\n",
    "from concurrent.futures.thread import ThreadPoolExecutor\n",
    "\n",
    "import nest_asyncio\n",
    "nest_asyncio.apply()"
   ]
  },
  {
   "cell_type": "code",
   "execution_count": 3,
   "id": "8562db9f",
   "metadata": {
    "scrolled": false
   },
   "outputs": [
    {
     "name": "stderr",
     "output_type": "stream",
     "text": [
      "[WDM] - Downloading: 100%|████████████████████████████████████████████████████████| 6.78M/6.78M [00:01<00:00, 5.76MB/s]\n"
     ]
    }
   ],
   "source": [
    "from parsel import Selector\n",
    "from itertools import product\n",
    "\n",
    "from tqdm import tqdm_notebook as tqdm\n",
    "\n",
    "import glob\n",
    "from datetime import datetime, timedelta\n",
    "from selenium import webdriver\n",
    "from selenium.webdriver.common.by import By\n",
    "from selenium.webdriver.chrome.service import Service\n",
    "from selenium.webdriver.chrome.options import Options\n",
    "from selenium.webdriver.support.ui import WebDriverWait\n",
    "from selenium.webdriver.support import expected_conditions as EC\n",
    "from selenium.common.exceptions import TimeoutException\n",
    "import time\n",
    "\n",
    "import pandas as pd\n",
    "import warnings\n",
    "warnings.filterwarnings(\"ignore\")\n",
    "\n",
    "from webdriver_manager.chrome import ChromeDriverManager\n",
    "\n",
    "from bs4 import BeautifulSoup\n",
    "\n",
    "add_zero = lambda x: '0' + str(x) if len(str(x)) < 2 else str(x)\n",
    "\n",
    "service = Service(ChromeDriverManager().install())\n",
    "\n",
    "options = Options()\n",
    "options.headless = True  # hide GUI\n",
    "options.add_argument(\"--window-size=1920,1080\")  # set window size to native GUI size\n",
    "options.add_argument(\"start-maximized\")  # ensure window is full-screen\n",
    "# configure chrome browser to not load images and javascript\n",
    "chrome_options = webdriver.ChromeOptions()\n",
    "chrome_options.add_experimental_option(\n",
    "                    \"prefs\", {\"profile.managed_default_content_settings.images\": 2}\n",
    "                        )\n",
    "service = Service(ChromeDriverManager().install())"
   ]
  },
  {
   "cell_type": "code",
   "execution_count": 4,
   "id": "a70e96a4",
   "metadata": {},
   "outputs": [],
   "source": [
    "def parse_page(page):\n",
    "    soup = BeautifulSoup(page, 'lxml')\n",
    "\n",
    "    prices = soup.find_all('div', attrs={'class':'ticket-desktop__side-container'})\n",
    "\n",
    "    price_ticket = list(map(lambda x: x.find('span', attrs={'data-test-id':'price'}), prices))\n",
    "    price_ticket = list(map(lambda x: x.text.replace('\\u202f','').replace('\\u2009₽',''), price_ticket))\n",
    "\n",
    "\n",
    "    price_luggage = list(map(lambda x: x.find('div', \n",
    "                                              attrs={'class':'body-3-semi_03dd9f9 mobile-body-3-semi_03dd9f9 price_a996d91'}), \n",
    "                             prices))\n",
    "    price_luggage = list(map(lambda x: x.text.replace('+\\u2009','').replace('\\u202f','').replace('\\u2009₽','') if x else 0, \n",
    "                             price_luggage))\n",
    "\n",
    "\n",
    "    duration = soup.find_all('div', attrs={'class':'segment-route__duration'})\n",
    "    duration = list(map(lambda x: x.text.replace('В пути:  ',''), duration))\n",
    "\n",
    "    transfer = soup.find_all('div', attrs={'class':'segment-route__path'})\n",
    "    transfer = list(map(lambda x: x.find_all('div', attrs={'class':'segment-route__stop'}), transfer))\n",
    "    transfer = list(map(lambda x: list(map(lambda y: y['data-iatas'], x)), transfer))\n",
    "\n",
    "    number_transfer = list(map(lambda x: len(x), transfer))\n",
    "    transfer = list(map(lambda x: ', '.join(x), transfer))\n",
    "    transfer = list(map(lambda x: x.replace('\\n',\"->\"), transfer))\n",
    "\n",
    "    keys = ['price', 'luggage', 'duration', 'transfer', 'number_transfer']\n",
    "\n",
    "    zipped = zip(price_ticket, price_luggage, duration, transfer, number_transfer)\n",
    "\n",
    "    data = [dict(zip(keys, values)) for values in zipped]\n",
    "    return data"
   ]
  },
  {
   "cell_type": "code",
   "execution_count": 5,
   "id": "6d8e1622",
   "metadata": {},
   "outputs": [],
   "source": [
    "def list_dates(datetime_start, datetime_end):\n",
    "    delta = timedelta(days = 1)\n",
    "    range_dates = []\n",
    "    date = datetime_start\n",
    "    while date <= datetime_end:\n",
    "        range_dates.append(date)\n",
    "        date = date + delta   \n",
    "    return range_dates"
   ]
  },
  {
   "cell_type": "code",
   "execution_count": 6,
   "id": "f5f8df9b",
   "metadata": {},
   "outputs": [],
   "source": [
    "def get_ticket(origin, destination, date, time_sleep = 20):\n",
    "    root = 'tickets'\n",
    "    driver = webdriver.Chrome(options=options, chrome_options=chrome_options, service = service)\n",
    "    month, day = add_zero(date.month), add_zero(date.day)\n",
    "    date = date.strftime('%Y-%m-%d')\n",
    "    url = 'https://www.aviasales.ru/search/' + origin + day + month + destination + str(number_ticket)\n",
    "    driver.get(url)\n",
    "    time.sleep(time_sleep)\n",
    "    try:\n",
    "        element = WebDriverWait(driver, 5).until(\n",
    "            EC.element_to_be_clickable((By.XPATH, \"//div[@id='ui-datepicker-div']//a[@class='ui-state-default']\")))\n",
    "    except TimeoutException:\n",
    "        pass\n",
    "    page = driver.page_source\n",
    "    tickets = parse_page(page)\n",
    "    tickets = [dict(item, **{'date':date, 'origin':origin, 'destination':destination}) for item in tickets]\n",
    "    if not os.path.isdir(root):\n",
    "        os.makedirs(os.path.join(root))\n",
    "        os.makedirs(os.path.join(root, 'json'))\n",
    "        os.makedirs(os.path.join(root, 'screenshots'))\n",
    "        \n",
    "    with open(os.path.join(root, 'json', origin + '_' + destination + '_' + date + '.json'), 'w', encoding='utf-8') as f:\n",
    "        json.dump(tickets, f)\n",
    "    \n",
    "    driver.set_window_size(1920, 1080)\n",
    "    time.sleep(2)\n",
    "    driver.save_screenshot(os.path.join(root, 'screenshots', origin + '_' + destination + '_' + date + '.png'))\n",
    "    driver.close()\n",
    "            \n",
    "def scrape(origin, destination, datetime_object, *, loop):\n",
    "    loop.run_in_executor(executor, get_ticket, origin, destination, datetime_object)"
   ]
  },
  {
   "cell_type": "code",
   "execution_count": 7,
   "id": "e2a9f856",
   "metadata": {},
   "outputs": [
    {
     "data": {
      "application/vnd.jupyter.widget-view+json": {
       "model_id": "99033de950dc4a3898f6fa3600cec3e3",
       "version_major": 2,
       "version_minor": 0
      },
      "text/plain": [
       "parse ticket:   0%|          | 0/1092 [00:00<?, ?it/s]"
      ]
     },
     "metadata": {},
     "output_type": "display_data"
    },
    {
     "data": {
      "application/vnd.jupyter.widget-view+json": {
       "model_id": "3e35eff26779446d8ce9c37f3cf1e543",
       "version_major": 2,
       "version_minor": 0
      },
      "text/plain": [
       "parse back ticket:   0%|          | 0/1092 [00:00<?, ?it/s]"
      ]
     },
     "metadata": {},
     "output_type": "display_data"
    }
   ],
   "source": [
    "executor = ThreadPoolExecutor(1)\n",
    "loop = asyncio.get_event_loop()\n",
    "\n",
    "\n",
    "origins =  ['LED', 'MOW', 'KZN']\n",
    "destinations =  ['BEG', 'TGD', 'TIA', 'TIV']\n",
    "range_date = ['2023-03-01', '2023-05-30']\n",
    "number_ticket = 1\n",
    "\n",
    "\n",
    "\n",
    "date_start, date_end = range_date[0], range_date[1]\n",
    "datetime_start = datetime.strptime(date_start, '%Y-%m-%d')\n",
    "datetime_end = datetime.strptime(date_end, '%Y-%m-%d')\n",
    "range_dates = list_dates(datetime_start, datetime_end)\n",
    "\n",
    "parameters = list(product(origins, destinations, list_dates(datetime_start, datetime_end)))\n",
    "\n",
    "for origin, destination, datetime_object in tqdm(parameters, total=len(parameters), desc='parse ticket'):\n",
    "    scrape(origin, destination, datetime_object, loop=loop)\n",
    "\n",
    "\n",
    "for destination, origin, datetime_object in tqdm(parameters, total=len(parameters), desc='parse back ticket'):\n",
    "    scrape(origin, destination, datetime_object, loop=loop)\n"
   ]
  },
  {
   "cell_type": "code",
   "execution_count": 9,
   "id": "cfaa6f6a",
   "metadata": {},
   "outputs": [],
   "source": [
    "# чтобы обработать все json\n",
    "root = '.\\\\tickets\\\\json'\n",
    "json_pattern = os.path.join(root,'*.json')\n",
    "file_list = glob.glob(json_pattern)\n",
    "\n",
    "dfs = [] # an empty list to store the data frames\n",
    "for file in file_list:\n",
    "    data = pd.read_json(file) # read data frame from json file\n",
    "    dfs.append(data) # append the data frame to the list\n",
    "\n",
    "df = pd.concat(dfs, ignore_index=True) \n",
    "df.to_csv('tickets.txt', sep = ';', index = False, encoding='utf-8-sig')"
   ]
  },
  {
   "cell_type": "code",
   "execution_count": null,
   "id": "e2585d6c",
   "metadata": {},
   "outputs": [],
   "source": []
  }
 ],
 "metadata": {
  "kernelspec": {
   "display_name": "Python 3 (ipykernel)",
   "language": "python",
   "name": "python3"
  },
  "language_info": {
   "codemirror_mode": {
    "name": "ipython",
    "version": 3
   },
   "file_extension": ".py",
   "mimetype": "text/x-python",
   "name": "python",
   "nbconvert_exporter": "python",
   "pygments_lexer": "ipython3",
   "version": "3.9.12"
  }
 },
 "nbformat": 4,
 "nbformat_minor": 5
}
