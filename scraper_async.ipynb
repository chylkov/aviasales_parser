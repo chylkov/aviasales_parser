{
 "cells": [
  {
   "cell_type": "code",
   "execution_count": 1,
   "id": "b73dad56",
   "metadata": {},
   "outputs": [],
   "source": [
    "#https://scrapfly.io/blog/web-scraping-with-selenium-and-python/\n",
    "# https://stackoverflow.com/questions/53475578/python-selenium-multiprocessing"
   ]
  },
  {
   "cell_type": "markdown",
   "id": "f67fa918",
   "metadata": {},
   "source": [
    "TODO\n",
    "- явно есть ошибки не корретного парсинга, можно найти кейсы по дешевым билетам\n",
    "- подумать может сделать без селениума\n",
    "- на сервер запустить скрипт"
   ]
  },
  {
   "cell_type": "code",
   "execution_count": 1,
   "id": "f73cab85",
   "metadata": {},
   "outputs": [],
   "source": [
    "import os\n",
    "import json\n",
    "import asyncio\n",
    "from datetime import datetime, timedelta\n",
    "from concurrent.futures.thread import ThreadPoolExecutor\n",
    "\n",
    "import nest_asyncio\n",
    "from utils.aviasales_parser import parse_page, list_dates, get_ticket\n",
    "\n",
    "nest_asyncio.apply()"
   ]
  },
  {
   "cell_type": "code",
   "execution_count": 2,
   "id": "8562db9f",
   "metadata": {
    "scrolled": false
   },
   "outputs": [],
   "source": [
    "from itertools import product\n",
    "from tqdm import tqdm_notebook as tqdm\n",
    "import pandas as pd\n",
    "import warnings\n",
    "warnings.filterwarnings(\"ignore\")\n",
    "\n"
   ]
  },
  {
   "cell_type": "code",
   "execution_count": 3,
   "id": "f5f8df9b",
   "metadata": {},
   "outputs": [],
   "source": [
    "def scrape(origin, destination, datetime_object, *, loop):\n",
    "    loop.run_in_executor(executor, get_ticket, origin, destination, datetime_object)"
   ]
  },
  {
   "cell_type": "code",
   "execution_count": 4,
   "id": "e2a9f856",
   "metadata": {},
   "outputs": [
    {
     "data": {
      "application/vnd.jupyter.widget-view+json": {
       "model_id": "aa2a987438ab4a65bf5bc38970f0db32",
       "version_major": 2,
       "version_minor": 0
      },
      "text/plain": [
       "parse ticket:   0%|          | 0/270 [00:00<?, ?it/s]"
      ]
     },
     "metadata": {},
     "output_type": "display_data"
    }
   ],
   "source": [
    "executor = ThreadPoolExecutor(3)\n",
    "loop = asyncio.get_event_loop()\n",
    "\n",
    "\n",
    "origins =  ['BUD', 'TSR', 'OSI', 'PEV', 'SOB', 'DEB', 'ZAG', 'BEG', 'TGD'] #['LED', 'MOW', 'KZN']\n",
    "destinations = ['HEL', 'TLL']# ['BEG', 'TGD', 'TIA', 'TIV']\n",
    "range_date = ['2023-11-01', '2023-11-15']\n",
    "number_ticket = 1\n",
    "\n",
    "date_start, date_end = range_date[0], range_date[1]\n",
    "datetime_start = datetime.strptime(date_start, '%Y-%m-%d')\n",
    "datetime_end = datetime.strptime(date_end, '%Y-%m-%d')\n",
    "range_dates = list_dates(datetime_start, datetime_end)\n",
    "\n",
    "parameters = list(product(origins, destinations, list_dates(datetime_start, datetime_end)))\n",
    "\n",
    "# билеты туда\n",
    "for origin, destination, datetime_object in tqdm(parameters, total=len(parameters), desc='parse ticket'):\n",
    "    scrape(origin, destination, datetime_object, loop=loop)\n",
    "\n"
   ]
  },
  {
   "cell_type": "code",
   "execution_count": 3,
   "id": "cfaa6f6a",
   "metadata": {},
   "outputs": [],
   "source": [
    "# # чтобы обработать все json\n",
    "# root = '.\\\\tickets\\\\json'\n",
    "# json_pattern = os.path.join(root,'*.json')\n",
    "# file_list = glob.glob(json_pattern)\n",
    "\n",
    "# dfs = [] # an empty list to store the data frames\n",
    "# for file in file_list:\n",
    "#     data = pd.read_json(file) # read data frame from json file\n",
    "#     dfs.append(data) # append the data frame to the list\n",
    "\n",
    "# df = pd.concat(dfs, ignore_index=True) \n",
    "# df.to_csv('tickets.txt', sep = ';', index = False, encoding='utf-8-sig')"
   ]
  },
  {
   "cell_type": "code",
   "execution_count": null,
   "id": "e2585d6c",
   "metadata": {},
   "outputs": [],
   "source": [
    "root_json = '.\\\\tickets\\\\json'\n",
    "json_pattern = os.path.join(root_json,'*.json')\n",
    "file_list = glob.glob(json_pattern)\n",
    "ticket_list = list(map(lambda)"
   ]
  }
 ],
 "metadata": {
  "kernelspec": {
   "display_name": "Python 3 (ipykernel)",
   "language": "python",
   "name": "python3"
  },
  "language_info": {
   "codemirror_mode": {
    "name": "ipython",
    "version": 3
   },
   "file_extension": ".py",
   "mimetype": "text/x-python",
   "name": "python",
   "nbconvert_exporter": "python",
   "pygments_lexer": "ipython3",
   "version": "3.9.12"
  }
 },
 "nbformat": 4,
 "nbformat_minor": 5
}
