{
 "cells": [
  {
   "cell_type": "markdown",
   "metadata": {},
   "source": [
    "0.\n",
    "\n",
    "Из KLO не строит до пекина\n",
    "\n",
    "0. возможно для минимизации запросов имеет смысл отправлять api запрос, если есть данные с моими параметрами, то сохранять его и не отправлять запрос в браузер (возможно тогда не нужен будет слипинг в размере 1 секунды)\n",
    "0. генерация из цепочек более сложных перелетов, например из ('KWE', 'PVG'), ('PVG', 'MOW') => ('KWE', 'MOW')\n",
    "0. сделать стопер, что если цепочка явно дорогая (пока не понятно как это определять), то выкидывать ее сразу из анализу\n",
    "0. для того чтобы не калбасить все даты, продумать, как отлет или прилет передевать параметром, чтобы не по всем дням проходить\n",
    "0. в парсер добавить перебор длинных маршрутов\n",
    "0. очистка ticket base после полной загрузки (удаление дублей)\n",
    "0. умный перебор: смотреть если перелет из точки А в точку B и в точку C (если нет из B в C то А в B не нужно)\n",
    "\n",
    "\n",
    "0. когда точек отправления 2 и более сделеать\n",
    "0. умная фильтрация по столбцам (все одинаковые фичи шли подряд)\n",
    "0. составление маршрутов когда 2 и более точек\n",
    "0. при фильтрации добавить duration (когда сравниваю две даты)\n",
    "0. реализовать систему весов для сортировки\n",
    "0. киллер фича, это учет часовых поясов аэропортов, даты начала рейса, продолжительности для высчитывания во сколько ты прилетаешь\n",
    "0. продумать как json дозаписывать\n",
    "0. сделать нормальную функцию группировки\n",
    "0. для умной генерации маршрутов нужно навесить кучу ограничений, например, такого не должно быть:\n",
    "\n",
    "[('KWE', 'TYN'), ('TYN', 'KWE'), ('KWE', 'PVG'), ('PVG', 'MOW')]\n"
   ]
  },
  {
   "cell_type": "code",
   "execution_count": 20,
   "metadata": {},
   "outputs": [],
   "source": [
    "#!pip install selenium"
   ]
  },
  {
   "cell_type": "code",
   "execution_count": 21,
   "metadata": {},
   "outputs": [],
   "source": [
    "# https://support.travelpayouts.com/hc/ru/categories/200358578-API-%D0%B8-%D0%B4%D0%B0%D0%BD%D0%BD%D1%8B%D0%B5\n",
    "# https://support.travelpayouts.com/hc/ru/articles/203956163-Aviasales-API-%D0%B4%D0%BE%D1%81%D1%82%D1%83%D0%BF%D0%B0-%D0%BA-%D0%B4%D0%B0%D0%BD%D0%BD%D1%8B%D0%BC-%D0%B4%D0%BB%D1%8F-%D1%83%D1%87%D0%B0%D1%81%D1%82%D0%BD%D0%B8%D0%BA%D0%BE%D0%B2-%D0%BF%D0%B0%D1%80%D1%82%D0%BD%D0%B5%D1%80%D1%81%D0%BA%D0%BE%D0%B9-%D0%BF%D1%80%D0%BE%D0%B3%D1%80%D0%B0%D0%BC%D0%BC%D1%8B#15"
   ]
  },
  {
   "cell_type": "code",
   "execution_count": 22,
   "metadata": {},
   "outputs": [],
   "source": [
    "ACCESS_TOKEN = 'b8848ff67e92768d2d1977862372d796'\n",
    "\n",
    "origin = ['KLO']#'KWE'\n",
    "final_destination = ['LED', 'MOW'] #'LED' 'KLO'\n",
    "range_date = ['2020-01-07', '2020-01-15']\n",
    "number_place = 2\n",
    "\n",
    "time_sleep = 1\n",
    "date_start, date_end = range_date[0], range_date[1]\n",
    "\n",
    "url = 'http://api.travelpayouts.com/v2/prices/month-matrix'\n",
    "\n",
    "group = ['DME', 'SVO', 'VKO', 'ZIA']\n",
    "\n",
    "wishful_point = ['KLO']\n"
   ]
  },
  {
   "cell_type": "code",
   "execution_count": 23,
   "metadata": {},
   "outputs": [],
   "source": [
    "import requests\n",
    "import json\n",
    "import codecs\n",
    "\n",
    "from itertools import product\n",
    "from tqdm import tqdm_notebook as tqdm\n",
    "\n",
    "from datetime import datetime, timedelta\n",
    "from time import sleep\n",
    "import pandas as pd\n",
    "from selenium import webdriver\n",
    "\n",
    "add_zero = lambda x: '0' + str(x) if len(str(x)) < 2 else str(x)\n",
    "# Используйте тут ваш путь к chromedriver!\n",
    "chromedriver_path = 'chromedriver.exe'\n",
    "driver = webdriver.Chrome(executable_path=chromedriver_path) # Этой командой открывается окно Chrome\n",
    "\n"
   ]
  },
  {
   "cell_type": "code",
   "execution_count": 24,
   "metadata": {},
   "outputs": [],
   "source": [
    "url_routes = 'http://api.travelpayouts.com/data/routes.json'\n",
    "routes = json.loads(requests.get(url_routes).text)\n",
    "route_chain = list(map(lambda x: [x['departure_airport_iata'], x['arrival_airport_iata']], routes))\n",
    "\n",
    "def group_airport(route, group):\n",
    "    if route[1] in group: route[1] = 'MOW'\n",
    "    if route[0] in group: route[0] = 'MOW'\n",
    "    return route\n",
    "\n",
    "route_chain = list(map(lambda x: group_airport(x, group), route_chain))\n",
    "route_chain = list(set(map(lambda x: tuple(x), route_chain)))"
   ]
  },
  {
   "cell_type": "code",
   "execution_count": 25,
   "metadata": {},
   "outputs": [],
   "source": [
    "def get_next_chain(arrivals, route_chain, final_destination, final = False):\n",
    "    if final:\n",
    "        next_chain = filter(lambda x: (x[0] in arrivals) & (x[1] in final_destination), route_chain)\n",
    "    else:\n",
    "        next_chain = filter(lambda x: x[0] in arrivals, route_chain)\n",
    "    return next_chain\n",
    "\n",
    "def get_arrivals(required_routes):\n",
    "    if type(required_routes[0][0]) == str:\n",
    "        arrivals = list(map(lambda x: x[1], required_routes))\n",
    "    else: \n",
    "        arrivals = list(set(map(lambda x: x[-1][1], required_routes)))\n",
    "    return arrivals\n",
    "\n",
    "def get_product(required_routes, next_chain):\n",
    "    if type(required_routes[0][0]) == str:\n",
    "        required_routes = list(filter(lambda x: x[-2][1] == x[-1][0], product(required_routes, next_chain)))\n",
    "    else: \n",
    "        required_routes = list(filter(lambda x: x[-2][-1][1] == x[-1][0], product(required_routes, next_chain)))\n",
    "    return required_routes\n",
    "\n",
    "def get_routes(origin, final_destination, route_chain, number_flights = 4):\n",
    "    if number_flights == 1:\n",
    "        required_routes = list(set(filter(lambda x: (x[0] in origin) & (x[1] in final_destination), route_chain)))\n",
    "    else:\n",
    "        required_routes = list(set(filter(lambda x: x[0] in origin, route_chain)))\n",
    "        for n in range(1, number_flights):\n",
    "            arrivals = get_arrivals(required_routes)\n",
    "            if n + 1 == number_flights:\n",
    "                next_chain = get_next_chain(arrivals, route_chain, final_destination, True)\n",
    "            else:    \n",
    "                next_chain = get_next_chain(arrivals, route_chain, final_destination)\n",
    "            required_routes = get_product(required_routes, next_chain)           \n",
    "    return required_routes\n",
    "\n",
    "def delete_chains(final_destination, rout):\n",
    "    s = 1\n",
    "    for chain in rout:\n",
    "        if chain[-1] not in final_destination:\n",
    "            s = s + 1\n",
    "        else:\n",
    "            break\n",
    "    rout = rout[:s]\n",
    "    return rout\n",
    "            \n",
    "def flat_route(route):\n",
    "    root = route\n",
    "    result = []\n",
    "    while type(root[-2]) != str:\n",
    "        result.append(root[-1])\n",
    "        root = root[-2]\n",
    "        \n",
    "    result.append(root)\n",
    "    result.reverse()\n",
    "    return result"
   ]
  },
  {
   "cell_type": "code",
   "execution_count": 26,
   "metadata": {},
   "outputs": [],
   "source": [
    "def get_wishful_routes(route, wishful_point):\n",
    "    result = False\n",
    "    if len(wishful_point) != 0:\n",
    "        for chain in route:\n",
    "            if chain[1] in wishful_point:\n",
    "                result = True\n",
    "        return result\n",
    "    else: return True"
   ]
  },
  {
   "cell_type": "code",
   "execution_count": 27,
   "metadata": {},
   "outputs": [],
   "source": [
    "required_routes = get_routes(origin, final_destination, route_chain, number_flights = 4)\n",
    "required_routes = list(map(flat_route, required_routes))\n",
    "required_routes = list(map(lambda x: delete_chains(final_destination, x), required_routes))\n",
    "required_routes = list(filter(lambda x: get_wishful_routes(x, wishful_point), required_routes))\n"
   ]
  },
  {
   "cell_type": "code",
   "execution_count": 28,
   "metadata": {},
   "outputs": [
    {
     "data": {
      "text/plain": [
       "[[('KLO', 'CEB'), ('CEB', 'KLO'), ('KLO', 'HKG'), ('HKG', 'MOW')],\n",
       " [('KLO', 'CEB'), ('CEB', 'KLO'), ('KLO', 'ICN'), ('ICN', 'MOW')],\n",
       " [('KLO', 'DVO'), ('DVO', 'KLO'), ('KLO', 'HKG'), ('HKG', 'MOW')],\n",
       " [('KLO', 'DVO'), ('DVO', 'KLO'), ('KLO', 'ICN'), ('ICN', 'MOW')],\n",
       " [('KLO', 'PUS'), ('PUS', 'KLO'), ('KLO', 'HKG'), ('HKG', 'MOW')],\n",
       " [('KLO', 'PUS'), ('PUS', 'KLO'), ('KLO', 'ICN'), ('ICN', 'MOW')],\n",
       " [('KLO', 'TPE'), ('TPE', 'KLO'), ('KLO', 'HKG'), ('HKG', 'MOW')],\n",
       " [('KLO', 'TPE'), ('TPE', 'KLO'), ('KLO', 'ICN'), ('ICN', 'MOW')],\n",
       " [('KLO', 'MNL'), ('MNL', 'KLO'), ('KLO', 'HKG'), ('HKG', 'MOW')],\n",
       " [('KLO', 'MNL'), ('MNL', 'KLO'), ('KLO', 'ICN'), ('ICN', 'MOW')],\n",
       " [('KLO', 'HKG'), ('HKG', 'KLO'), ('KLO', 'HKG'), ('HKG', 'MOW')],\n",
       " [('KLO', 'HKG'), ('HKG', 'KLO'), ('KLO', 'ICN'), ('ICN', 'MOW')],\n",
       " [('KLO', 'CRK'), ('CRK', 'KLO'), ('KLO', 'HKG'), ('HKG', 'MOW')],\n",
       " [('KLO', 'CRK'), ('CRK', 'KLO'), ('KLO', 'ICN'), ('ICN', 'MOW')],\n",
       " [('KLO', 'ICN'), ('ICN', 'KLO'), ('KLO', 'HKG'), ('HKG', 'MOW')],\n",
       " [('KLO', 'ICN'), ('ICN', 'KLO'), ('KLO', 'ICN'), ('ICN', 'MOW')]]"
      ]
     },
     "execution_count": 28,
     "metadata": {},
     "output_type": "execute_result"
    }
   ],
   "source": [
    "required_routes"
   ]
  },
  {
   "cell_type": "code",
   "execution_count": 9,
   "metadata": {},
   "outputs": [],
   "source": [
    "all_points = list(set([point for route in required_routes for chain in route for point in chain]))"
   ]
  },
  {
   "cell_type": "code",
   "execution_count": 10,
   "metadata": {},
   "outputs": [],
   "source": [
    "def list_dates(datetime_start, datetime_end):\n",
    "    delta = timedelta(days = 1)\n",
    "    range_dates = []\n",
    "    date = datetime_start\n",
    "    while date <= datetime_end:\n",
    "        range_dates.append(date)\n",
    "        date = date + delta   \n",
    "    return range_dates\n",
    "\n",
    "def open_json(path):\n",
    "    try:\n",
    "        with open(path, encoding='utf-8', mode = 'r') as file:\n",
    "            json_base = json.load(file)\n",
    "    except FileNotFoundError:\n",
    "        json_base = []\n",
    "    return json_base\n",
    "\n",
    "def write_json(path, json_base):\n",
    "    with open(path, encoding='utf-8', mode = 'w') as file:\n",
    "        json.dump(json_base, file)    "
   ]
  },
  {
   "cell_type": "code",
   "execution_count": 11,
   "metadata": {},
   "outputs": [],
   "source": [
    "def get_destinations(routes, origin):\n",
    "    destination_list = list(filter(lambda x: x['departure_airport_iata'] == origin, routes))\n",
    "    destination_list = list(set(map(lambda x: x['arrival_airport_iata'],destination_list)))\n",
    "    return destination_list"
   ]
  },
  {
   "cell_type": "code",
   "execution_count": 13,
   "metadata": {},
   "outputs": [],
   "source": [
    "def update_browser_query(path, days = 5):\n",
    "    browser_query = open_json(path)\n",
    "    current_time = datetime.utcnow() - timedelta(days = days)\n",
    "    browser_query = list(filter(lambda x: datetime.strptime(x['timestamp'], \n",
    "                                                            '%Y-%m-%d %H:%M:%S') > current_time, browser_query))  \n",
    "    write_json(path, browser_query)  \n",
    "\n",
    "def check_browser_query(date, origin, destination): \n",
    "    rewrite = True\n",
    "    browser_query = open_json('browser_query.json')\n",
    "    checker = list(filter(lambda x: ((x['date'] == date) & (x['origin'] == origin) & \n",
    "                                     (x['destination'] == destination)), browser_query))    \n",
    "    if len(checker) != 0: rewrite = False          \n",
    "    return rewrite   \n",
    "\n",
    "def add_browser_query(date, origin, destination): \n",
    "    browser_query = open_json('browser_query.json')\n",
    "    browser_query.append({'date':date, 'origin':origin, \n",
    "         'destination':destination, 'timestamp':datetime.utcnow().strftime('%Y-%m-%d %H:%M:%S')})\n",
    "    write_json('browser_query.json', browser_query)\n"
   ]
  },
  {
   "cell_type": "code",
   "execution_count": 14,
   "metadata": {},
   "outputs": [],
   "source": [
    "def update_price_base(path, days = 5):\n",
    "    ticket_base = open_json(path)\n",
    "    current_time = datetime.utcnow() - timedelta(days = days)   \n",
    "    ticket_base = list(filter(lambda x: datetime.strptime(x['found_at'], \n",
    "                                                            '%Y-%m-%dT%H:%M:%S') > current_time, ticket_base))    \n",
    "    write_json(path, ticket_base)       \n",
    "\n",
    "def check_ticket_price(date, origin, destination): \n",
    "    rewrite = True\n",
    "    ticket_base = open_json('ticket_base.json')       \n",
    "    checker = list(filter(lambda x: ((x['depart_date'] == date) & (x['origin'] == origin) & \n",
    "                                     (x['destination'] == destination)), ticket_base))    \n",
    "    if len(checker) != 0: rewrite = False       \n",
    "    return rewrite\n",
    "\n",
    "def get_ticket_price(date, origin, destination):\n",
    "    ticket_base = open_json('ticket_base.json')\n",
    "    ticket = list(filter(lambda x: ((x['depart_date'] == date) & (x['origin'] == origin) & \n",
    "                                     (x['destination'] == destination)), ticket_base))\n",
    "    return ticket\n",
    "\n",
    "def add_ticket_price(date, origin, destination, ticket): \n",
    "    ticket_base = open_json('ticket_base.json')\n",
    "    ticket_base = ticket_base + ticket\n",
    "    write_json('ticket_base.json', ticket_base)"
   ]
  },
  {
   "cell_type": "code",
   "execution_count": 15,
   "metadata": {},
   "outputs": [],
   "source": [
    "def get_price_routes(datetime_start, datetime_end, required_routes):\n",
    "    tickets = []\n",
    "    #update_price_base('ticket_base.json')\n",
    "    update_browser_query('browser_query.json')\n",
    "    \n",
    "    parameters = list(product(required_routes, list_dates(datetime_start, datetime_end)))\n",
    "\n",
    "    for route, datetime_object in tqdm(parameters, total=len(parameters), desc='send_query'):\n",
    "        month, day = add_zero(datetime_object.month), add_zero(datetime_object.day)\n",
    "        date = datetime_object.strftime('%Y-%m-%d')\n",
    "        for chain in route[-1:]:\n",
    "            origin, destination = chain\n",
    "\n",
    "            url_for_cash = f'https://www.aviasales.ru/search/{origin}{day}{month}{destination}1'\n",
    "\n",
    "            if check_browser_query(date, origin, destination):\n",
    "                driver.get(url_for_cash)\n",
    "                sleep(time_sleep)\n",
    "                while \"Извините, доступ к поиску\" in driver.page_source:\n",
    "                    print(datetime.now().strftime('%Y-%m-%d %H:%M:%S'), 'sleeping 20 minutes')\n",
    "                    sleep(1200)\n",
    "                    driver.get(url_for_cash)\n",
    "\n",
    "                add_browser_query(date, origin, destination)\n",
    "                \n",
    "    \n",
    "    for route, datetime_object in tqdm(parameters, total=len(parameters), desc='get_price_from'):      \n",
    "        date = datetime_object.strftime('%Y-%m-%d')\n",
    "        for chain in route:\n",
    "            origin, destination = chain\n",
    "        \n",
    "            if check_ticket_price(date, origin, destination):\n",
    "                params = {'currency': 'rub', 'show_to_affiliates':'false', 'token' : ACCESS_TOKEN, 'one_way':'true',\n",
    "                        'origin': origin, 'destination': destination, 'month':date}\n",
    "                response = requests.get(url, params=params)\n",
    "                if 'errors' not in json.loads(response.text)['data']:\n",
    "                    ticket = json.loads(response.text)['data']\n",
    "                    add_ticket_price(date, origin, destination, ticket)\n",
    "                    tickets = tickets + ticket  \n",
    "            else:\n",
    "                tickets = tickets + get_ticket_price(date, origin, destination)    \n",
    "    return tickets"
   ]
  },
  {
   "cell_type": "code",
   "execution_count": 16,
   "metadata": {},
   "outputs": [],
   "source": [
    "f = codecs.open('airports.json', encoding='utf-8', mode='r')\n",
    "data = json.load(f)"
   ]
  },
  {
   "cell_type": "code",
   "execution_count": 17,
   "metadata": {},
   "outputs": [],
   "source": [
    "from math import radians, cos, sin, asin, sqrt\n",
    "def haversine(lon1, lat1, lon2, lat2):\n",
    "    \"\"\"\n",
    "    Calculate the great circle distance between two points \n",
    "    on the earth (specified in decimal degrees)\n",
    "    \"\"\"\n",
    "    # convert decimal degrees to radians \n",
    "    lon1, lat1, lon2, lat2 = map(radians, [lon1, lat1, lon2, lat2])\n",
    "    # haversine formula \n",
    "    dlon = lon2 - lon1 \n",
    "    dlat = lat2 - lat1 \n",
    "    a = sin(dlat/2)**2 + cos(lat1) * cos(lat2) * sin(dlon/2)**2\n",
    "    c = 2 * asin(sqrt(a)) \n",
    "    # Radius of earth in kilometers is 6371\n",
    "    km = 6371* c\n",
    "    return km\n",
    "\n",
    "\n",
    "def distance(rout, data):\n",
    "    lon1, lat1 = tuple(list(filter(lambda x: (x['city_code'] == rout[0]) \n",
    "                               or (x['code'] == rout[0]), data))[0]['coordinates'].values())\n",
    "    \n",
    "    lon2, lat2 = tuple(list(filter(lambda x: (x['city_code'] == rout[1]) \n",
    "                               or (x['code'] == rout[1]), data))[0]['coordinates'].values())\n",
    "    \n",
    "    km = haversine(lon1, lat1, lon2, lat2)\n",
    "    return km\n"
   ]
  },
  {
   "cell_type": "code",
   "execution_count": 18,
   "metadata": {},
   "outputs": [],
   "source": [
    "# distance = list(map(lambda x: sum(map(lambda y: distance(y, data),x)), required_routes))\n",
    "# required_routes = [x for _,x in sorted(zip(distance,required_routes))]"
   ]
  },
  {
   "cell_type": "code",
   "execution_count": null,
   "metadata": {},
   "outputs": [],
   "source": []
  },
  {
   "cell_type": "code",
   "execution_count": 19,
   "metadata": {},
   "outputs": [
    {
     "data": {
      "application/vnd.jupyter.widget-view+json": {
       "model_id": "5d2cf2aecb19415195a2f6de8ec3c37a",
       "version_major": 2,
       "version_minor": 0
      },
      "text/plain": [
       "HBox(children=(IntProgress(value=0, description='send_query', max=36, style=ProgressStyle(description_width='i…"
      ]
     },
     "metadata": {},
     "output_type": "display_data"
    },
    {
     "name": "stdout",
     "output_type": "stream",
     "text": [
      "\n"
     ]
    },
    {
     "data": {
      "application/vnd.jupyter.widget-view+json": {
       "model_id": "928560657d27475fa81a4c83b338f240",
       "version_major": 2,
       "version_minor": 0
      },
      "text/plain": [
       "HBox(children=(IntProgress(value=0, description='get_price_from', max=36, style=ProgressStyle(description_widt…"
      ]
     },
     "metadata": {},
     "output_type": "display_data"
    },
    {
     "name": "stdout",
     "output_type": "stream",
     "text": [
      "\n"
     ]
    },
    {
     "ename": "JSONDecodeError",
     "evalue": "Expecting property name enclosed in double quotes: line 1 column 1262442 (char 1262441)",
     "output_type": "error",
     "traceback": [
      "\u001b[1;31m---------------------------------------------------------------------------\u001b[0m",
      "\u001b[1;31mJSONDecodeError\u001b[0m                           Traceback (most recent call last)",
      "\u001b[1;32m<ipython-input-19-356a7056cfc6>\u001b[0m in \u001b[0;36m<module>\u001b[1;34m\u001b[0m\n\u001b[0;32m      6\u001b[0m \u001b[1;31m#destination_list = get_destinations(routes, origin)\u001b[0m\u001b[1;33m\u001b[0m\u001b[1;33m\u001b[0m\u001b[1;33m\u001b[0m\u001b[0m\n\u001b[0;32m      7\u001b[0m \u001b[1;33m\u001b[0m\u001b[0m\n\u001b[1;32m----> 8\u001b[1;33m \u001b[0mtickets_list\u001b[0m\u001b[1;33m.\u001b[0m\u001b[0mappend\u001b[0m\u001b[1;33m(\u001b[0m\u001b[0mget_price_routes\u001b[0m\u001b[1;33m(\u001b[0m\u001b[0mdatetime_start\u001b[0m\u001b[1;33m,\u001b[0m \u001b[0mdatetime_end\u001b[0m\u001b[1;33m,\u001b[0m \u001b[0mrequired_routes\u001b[0m\u001b[1;33m)\u001b[0m\u001b[1;33m)\u001b[0m\u001b[1;33m\u001b[0m\u001b[1;33m\u001b[0m\u001b[0m\n\u001b[0m\u001b[0;32m      9\u001b[0m \u001b[1;33m\u001b[0m\u001b[0m\n\u001b[0;32m     10\u001b[0m \u001b[1;31m# for change in range(number_place):\u001b[0m\u001b[1;33m\u001b[0m\u001b[1;33m\u001b[0m\u001b[1;33m\u001b[0m\u001b[0m\n",
      "\u001b[1;32m<ipython-input-15-ef28d85d3ab9>\u001b[0m in \u001b[0;36mget_price_routes\u001b[1;34m(datetime_start, datetime_end, required_routes)\u001b[0m\n\u001b[0;32m     30\u001b[0m             \u001b[0morigin\u001b[0m\u001b[1;33m,\u001b[0m \u001b[0mdestination\u001b[0m \u001b[1;33m=\u001b[0m \u001b[0mchain\u001b[0m\u001b[1;33m\u001b[0m\u001b[1;33m\u001b[0m\u001b[0m\n\u001b[0;32m     31\u001b[0m \u001b[1;33m\u001b[0m\u001b[0m\n\u001b[1;32m---> 32\u001b[1;33m             \u001b[1;32mif\u001b[0m \u001b[0mcheck_ticket_price\u001b[0m\u001b[1;33m(\u001b[0m\u001b[0mdate\u001b[0m\u001b[1;33m,\u001b[0m \u001b[0morigin\u001b[0m\u001b[1;33m,\u001b[0m \u001b[0mdestination\u001b[0m\u001b[1;33m)\u001b[0m\u001b[1;33m:\u001b[0m\u001b[1;33m\u001b[0m\u001b[1;33m\u001b[0m\u001b[0m\n\u001b[0m\u001b[0;32m     33\u001b[0m                 params = {'currency': 'rub', 'show_to_affiliates':'false', 'token' : ACCESS_TOKEN, 'one_way':'true',\n\u001b[0;32m     34\u001b[0m                         'origin': origin, 'destination': destination, 'month':date}\n",
      "\u001b[1;32m<ipython-input-14-53d9687ab98a>\u001b[0m in \u001b[0;36mcheck_ticket_price\u001b[1;34m(date, origin, destination)\u001b[0m\n\u001b[0;32m      8\u001b[0m \u001b[1;32mdef\u001b[0m \u001b[0mcheck_ticket_price\u001b[0m\u001b[1;33m(\u001b[0m\u001b[0mdate\u001b[0m\u001b[1;33m,\u001b[0m \u001b[0morigin\u001b[0m\u001b[1;33m,\u001b[0m \u001b[0mdestination\u001b[0m\u001b[1;33m)\u001b[0m\u001b[1;33m:\u001b[0m\u001b[1;33m\u001b[0m\u001b[1;33m\u001b[0m\u001b[0m\n\u001b[0;32m      9\u001b[0m     \u001b[0mrewrite\u001b[0m \u001b[1;33m=\u001b[0m \u001b[1;32mTrue\u001b[0m\u001b[1;33m\u001b[0m\u001b[1;33m\u001b[0m\u001b[0m\n\u001b[1;32m---> 10\u001b[1;33m     \u001b[0mticket_base\u001b[0m \u001b[1;33m=\u001b[0m \u001b[0mopen_json\u001b[0m\u001b[1;33m(\u001b[0m\u001b[1;34m'ticket_base.json'\u001b[0m\u001b[1;33m)\u001b[0m\u001b[1;33m\u001b[0m\u001b[1;33m\u001b[0m\u001b[0m\n\u001b[0m\u001b[0;32m     11\u001b[0m     checker = list(filter(lambda x: ((x['depart_date'] == date) & (x['origin'] == origin) & \n\u001b[0;32m     12\u001b[0m                                      (x['destination'] == destination)), ticket_base))    \n",
      "\u001b[1;32m<ipython-input-10-2ea5c7e7c457>\u001b[0m in \u001b[0;36mopen_json\u001b[1;34m(path)\u001b[0m\n\u001b[0;32m     11\u001b[0m     \u001b[1;32mtry\u001b[0m\u001b[1;33m:\u001b[0m\u001b[1;33m\u001b[0m\u001b[1;33m\u001b[0m\u001b[0m\n\u001b[0;32m     12\u001b[0m         \u001b[1;32mwith\u001b[0m \u001b[0mopen\u001b[0m\u001b[1;33m(\u001b[0m\u001b[0mpath\u001b[0m\u001b[1;33m,\u001b[0m \u001b[0mencoding\u001b[0m\u001b[1;33m=\u001b[0m\u001b[1;34m'utf-8'\u001b[0m\u001b[1;33m,\u001b[0m \u001b[0mmode\u001b[0m \u001b[1;33m=\u001b[0m \u001b[1;34m'r'\u001b[0m\u001b[1;33m)\u001b[0m \u001b[1;32mas\u001b[0m \u001b[0mfile\u001b[0m\u001b[1;33m:\u001b[0m\u001b[1;33m\u001b[0m\u001b[1;33m\u001b[0m\u001b[0m\n\u001b[1;32m---> 13\u001b[1;33m             \u001b[0mjson_base\u001b[0m \u001b[1;33m=\u001b[0m \u001b[0mjson\u001b[0m\u001b[1;33m.\u001b[0m\u001b[0mload\u001b[0m\u001b[1;33m(\u001b[0m\u001b[0mfile\u001b[0m\u001b[1;33m)\u001b[0m\u001b[1;33m\u001b[0m\u001b[1;33m\u001b[0m\u001b[0m\n\u001b[0m\u001b[0;32m     14\u001b[0m     \u001b[1;32mexcept\u001b[0m \u001b[0mFileNotFoundError\u001b[0m\u001b[1;33m:\u001b[0m\u001b[1;33m\u001b[0m\u001b[1;33m\u001b[0m\u001b[0m\n\u001b[0;32m     15\u001b[0m         \u001b[0mjson_base\u001b[0m \u001b[1;33m=\u001b[0m \u001b[1;33m[\u001b[0m\u001b[1;33m]\u001b[0m\u001b[1;33m\u001b[0m\u001b[1;33m\u001b[0m\u001b[0m\n",
      "\u001b[1;32mC:\\ProgramData\\Anaconda3\\lib\\json\\__init__.py\u001b[0m in \u001b[0;36mload\u001b[1;34m(fp, cls, object_hook, parse_float, parse_int, parse_constant, object_pairs_hook, **kw)\u001b[0m\n\u001b[0;32m    294\u001b[0m         \u001b[0mcls\u001b[0m\u001b[1;33m=\u001b[0m\u001b[0mcls\u001b[0m\u001b[1;33m,\u001b[0m \u001b[0mobject_hook\u001b[0m\u001b[1;33m=\u001b[0m\u001b[0mobject_hook\u001b[0m\u001b[1;33m,\u001b[0m\u001b[1;33m\u001b[0m\u001b[1;33m\u001b[0m\u001b[0m\n\u001b[0;32m    295\u001b[0m         \u001b[0mparse_float\u001b[0m\u001b[1;33m=\u001b[0m\u001b[0mparse_float\u001b[0m\u001b[1;33m,\u001b[0m \u001b[0mparse_int\u001b[0m\u001b[1;33m=\u001b[0m\u001b[0mparse_int\u001b[0m\u001b[1;33m,\u001b[0m\u001b[1;33m\u001b[0m\u001b[1;33m\u001b[0m\u001b[0m\n\u001b[1;32m--> 296\u001b[1;33m         parse_constant=parse_constant, object_pairs_hook=object_pairs_hook, **kw)\n\u001b[0m\u001b[0;32m    297\u001b[0m \u001b[1;33m\u001b[0m\u001b[0m\n\u001b[0;32m    298\u001b[0m \u001b[1;33m\u001b[0m\u001b[0m\n",
      "\u001b[1;32mC:\\ProgramData\\Anaconda3\\lib\\json\\__init__.py\u001b[0m in \u001b[0;36mloads\u001b[1;34m(s, encoding, cls, object_hook, parse_float, parse_int, parse_constant, object_pairs_hook, **kw)\u001b[0m\n\u001b[0;32m    346\u001b[0m             \u001b[0mparse_int\u001b[0m \u001b[1;32mis\u001b[0m \u001b[1;32mNone\u001b[0m \u001b[1;32mand\u001b[0m \u001b[0mparse_float\u001b[0m \u001b[1;32mis\u001b[0m \u001b[1;32mNone\u001b[0m \u001b[1;32mand\u001b[0m\u001b[1;33m\u001b[0m\u001b[1;33m\u001b[0m\u001b[0m\n\u001b[0;32m    347\u001b[0m             parse_constant is None and object_pairs_hook is None and not kw):\n\u001b[1;32m--> 348\u001b[1;33m         \u001b[1;32mreturn\u001b[0m \u001b[0m_default_decoder\u001b[0m\u001b[1;33m.\u001b[0m\u001b[0mdecode\u001b[0m\u001b[1;33m(\u001b[0m\u001b[0ms\u001b[0m\u001b[1;33m)\u001b[0m\u001b[1;33m\u001b[0m\u001b[1;33m\u001b[0m\u001b[0m\n\u001b[0m\u001b[0;32m    349\u001b[0m     \u001b[1;32mif\u001b[0m \u001b[0mcls\u001b[0m \u001b[1;32mis\u001b[0m \u001b[1;32mNone\u001b[0m\u001b[1;33m:\u001b[0m\u001b[1;33m\u001b[0m\u001b[1;33m\u001b[0m\u001b[0m\n\u001b[0;32m    350\u001b[0m         \u001b[0mcls\u001b[0m \u001b[1;33m=\u001b[0m \u001b[0mJSONDecoder\u001b[0m\u001b[1;33m\u001b[0m\u001b[1;33m\u001b[0m\u001b[0m\n",
      "\u001b[1;32mC:\\ProgramData\\Anaconda3\\lib\\json\\decoder.py\u001b[0m in \u001b[0;36mdecode\u001b[1;34m(self, s, _w)\u001b[0m\n\u001b[0;32m    335\u001b[0m \u001b[1;33m\u001b[0m\u001b[0m\n\u001b[0;32m    336\u001b[0m         \"\"\"\n\u001b[1;32m--> 337\u001b[1;33m         \u001b[0mobj\u001b[0m\u001b[1;33m,\u001b[0m \u001b[0mend\u001b[0m \u001b[1;33m=\u001b[0m \u001b[0mself\u001b[0m\u001b[1;33m.\u001b[0m\u001b[0mraw_decode\u001b[0m\u001b[1;33m(\u001b[0m\u001b[0ms\u001b[0m\u001b[1;33m,\u001b[0m \u001b[0midx\u001b[0m\u001b[1;33m=\u001b[0m\u001b[0m_w\u001b[0m\u001b[1;33m(\u001b[0m\u001b[0ms\u001b[0m\u001b[1;33m,\u001b[0m \u001b[1;36m0\u001b[0m\u001b[1;33m)\u001b[0m\u001b[1;33m.\u001b[0m\u001b[0mend\u001b[0m\u001b[1;33m(\u001b[0m\u001b[1;33m)\u001b[0m\u001b[1;33m)\u001b[0m\u001b[1;33m\u001b[0m\u001b[1;33m\u001b[0m\u001b[0m\n\u001b[0m\u001b[0;32m    338\u001b[0m         \u001b[0mend\u001b[0m \u001b[1;33m=\u001b[0m \u001b[0m_w\u001b[0m\u001b[1;33m(\u001b[0m\u001b[0ms\u001b[0m\u001b[1;33m,\u001b[0m \u001b[0mend\u001b[0m\u001b[1;33m)\u001b[0m\u001b[1;33m.\u001b[0m\u001b[0mend\u001b[0m\u001b[1;33m(\u001b[0m\u001b[1;33m)\u001b[0m\u001b[1;33m\u001b[0m\u001b[1;33m\u001b[0m\u001b[0m\n\u001b[0;32m    339\u001b[0m         \u001b[1;32mif\u001b[0m \u001b[0mend\u001b[0m \u001b[1;33m!=\u001b[0m \u001b[0mlen\u001b[0m\u001b[1;33m(\u001b[0m\u001b[0ms\u001b[0m\u001b[1;33m)\u001b[0m\u001b[1;33m:\u001b[0m\u001b[1;33m\u001b[0m\u001b[1;33m\u001b[0m\u001b[0m\n",
      "\u001b[1;32mC:\\ProgramData\\Anaconda3\\lib\\json\\decoder.py\u001b[0m in \u001b[0;36mraw_decode\u001b[1;34m(self, s, idx)\u001b[0m\n\u001b[0;32m    351\u001b[0m         \"\"\"\n\u001b[0;32m    352\u001b[0m         \u001b[1;32mtry\u001b[0m\u001b[1;33m:\u001b[0m\u001b[1;33m\u001b[0m\u001b[1;33m\u001b[0m\u001b[0m\n\u001b[1;32m--> 353\u001b[1;33m             \u001b[0mobj\u001b[0m\u001b[1;33m,\u001b[0m \u001b[0mend\u001b[0m \u001b[1;33m=\u001b[0m \u001b[0mself\u001b[0m\u001b[1;33m.\u001b[0m\u001b[0mscan_once\u001b[0m\u001b[1;33m(\u001b[0m\u001b[0ms\u001b[0m\u001b[1;33m,\u001b[0m \u001b[0midx\u001b[0m\u001b[1;33m)\u001b[0m\u001b[1;33m\u001b[0m\u001b[1;33m\u001b[0m\u001b[0m\n\u001b[0m\u001b[0;32m    354\u001b[0m         \u001b[1;32mexcept\u001b[0m \u001b[0mStopIteration\u001b[0m \u001b[1;32mas\u001b[0m \u001b[0merr\u001b[0m\u001b[1;33m:\u001b[0m\u001b[1;33m\u001b[0m\u001b[1;33m\u001b[0m\u001b[0m\n\u001b[0;32m    355\u001b[0m             \u001b[1;32mraise\u001b[0m \u001b[0mJSONDecodeError\u001b[0m\u001b[1;33m(\u001b[0m\u001b[1;34m\"Expecting value\"\u001b[0m\u001b[1;33m,\u001b[0m \u001b[0ms\u001b[0m\u001b[1;33m,\u001b[0m \u001b[0merr\u001b[0m\u001b[1;33m.\u001b[0m\u001b[0mvalue\u001b[0m\u001b[1;33m)\u001b[0m \u001b[1;32mfrom\u001b[0m \u001b[1;32mNone\u001b[0m\u001b[1;33m\u001b[0m\u001b[1;33m\u001b[0m\u001b[0m\n",
      "\u001b[1;31mJSONDecodeError\u001b[0m: Expecting property name enclosed in double quotes: line 1 column 1262442 (char 1262441)"
     ]
    }
   ],
   "source": [
    "tickets_list = []\n",
    "\n",
    "datetime_start = datetime.strptime(date_start, '%Y-%m-%d')\n",
    "datetime_end = datetime.strptime(date_end, '%Y-%m-%d')\n",
    "\n",
    "#destination_list = get_destinations(routes, origin)\n",
    "\n",
    "tickets_list.append(get_price_routes(datetime_start, datetime_end, required_routes))   \n",
    "\n",
    "# for change in range(number_place):\n",
    "#     ponts_list =  list(set(map(lambda x: x['destination'], tickets_list[change])))\n",
    "#     tickets = []\n",
    "#     for point in tqdm(ponts_list, desc=f'for_{change + 1}_point_destination'):\n",
    "#         if change + 1 < number_place: destination_list = get_destinations(routes, point) + final_destination\n",
    "#         else: destination_list = final_destination\n",
    "#         tickets = tickets + get_price_routes(datetime_start, datetime_end, point, destination_list)    \n",
    "            \n",
    "#     tickets_list.append(tickets)  \n"
   ]
  },
  {
   "cell_type": "code",
   "execution_count": null,
   "metadata": {},
   "outputs": [],
   "source": [
    "!git add ticket_base.json\n",
    "!git add browser_query.json\n",
    "!git commit -m \"update jsons\"\n",
    "!git push origin master"
   ]
  },
  {
   "cell_type": "markdown",
   "metadata": {},
   "source": [
    "### Нужно порабатать с кодом"
   ]
  },
  {
   "cell_type": "code",
   "execution_count": null,
   "metadata": {},
   "outputs": [],
   "source": [
    "df = pd.read_json('ticket_base.json')\n",
    "df = df[(df['depart_date'] >= date_start) & (df['depart_date'] <= date_end)]\n",
    "\n",
    "feature = list(df.columns).remove('found_at')\n",
    "\n",
    "df.sort_values(by = 'found_at', ascending=False, inplace=True)\n",
    "df.drop_duplicates(inplace = True, keep = 'first', subset = feature)\n",
    "\n",
    "df.to_csv('routes_price.txt', index = False)"
   ]
  },
  {
   "cell_type": "code",
   "execution_count": null,
   "metadata": {},
   "outputs": [],
   "source": [
    "route_feature = ['depart_date', 'origin', 'destination', 'distance', \n",
    "                 'duration', 'number_of_changes', 'value']\n",
    "\n",
    "df_route = df[df['origin'] == origin][route_feature]\n",
    "\n",
    "for change in range(number_place):\n",
    "    \n",
    "    if change == 0:\n",
    "        df_route = df_route.merge(df[route_feature], \n",
    "                                           how = 'left', left_on = 'destination', \n",
    "                                           right_on = 'origin', suffixes = ['_from', ''])\n",
    "        \n",
    "        df_route.rename(columns={x:x + '_' + str(change + 1) for x in route_feature}, inplace = True)\n",
    "\n",
    "        df_route = df_route[df_route['depart_date_from'] <= df_route['depart_date_' + str(change + 1)]]\n",
    "    else:\n",
    "        df_route = df_route.merge(df[route_feature], \n",
    "                                           how = 'left', left_on = 'destination_' + str(change), \n",
    "                                           right_on = 'origin')\n",
    "        \n",
    "        df_route.rename(columns={x:x + '_' + str(change + 1) for x in route_feature}, inplace = True)\n",
    "        df_route = df_route[df_route['depart_date_' + str(change)] <= df_route['depart_date_' + str(change+1)]]\n",
    "\n",
    "\n",
    "value_list = list(filter(lambda x: x[:5] == 'value', list(df_route.columns)))\n",
    "df_route['total_value'] =  df_route[value_list].sum(axis = 1)\n",
    "\n",
    "#df_route = df_route[(df_route['depart_date_from'] >= date_start) & (df_route['depart_date_to'] <= date_end)]\n",
    "\n",
    "df_route.sort_values(by = ['total_value', 'depart_date_from'] , inplace = True)\n",
    "\n",
    "df_route = df_route[df_route['destination' + str(change+1)].isin(final_destination)]\n",
    "\n",
    "df_route.reset_index(drop=True, inplace = True)"
   ]
  },
  {
   "cell_type": "code",
   "execution_count": null,
   "metadata": {},
   "outputs": [],
   "source": []
  }
 ],
 "metadata": {
  "kernelspec": {
   "display_name": "Python 3",
   "language": "python",
   "name": "python3"
  },
  "language_info": {
   "codemirror_mode": {
    "name": "ipython",
    "version": 3
   },
   "file_extension": ".py",
   "mimetype": "text/x-python",
   "name": "python",
   "nbconvert_exporter": "python",
   "pygments_lexer": "ipython3",
   "version": "3.7.3"
  }
 },
 "nbformat": 4,
 "nbformat_minor": 2
}
