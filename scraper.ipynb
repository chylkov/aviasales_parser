{
 "cells": [
  {
   "cell_type": "code",
   "execution_count": 1,
   "id": "b73dad56",
   "metadata": {},
   "outputs": [],
   "source": [
    "#https://scrapfly.io/blog/web-scraping-with-selenium-and-python/"
   ]
  },
  {
   "cell_type": "markdown",
   "id": "fbe7c09a",
   "metadata": {},
   "source": [
    "TODO\n",
    "- явно есть ошибки не корретного парсинга, можно найти кейсы по дешевым билетам\n",
    "- сделать через распаралеривание (4-6 потоков)\n",
    "- подумать может сделать без селениума\n",
    "- на сервер запустить скрипт\n",
    "- продумать как парсить билеты туда назад (тупо с двумя длинными списками будет некорректно)\n",
    "- сохранять исходники страниц (или скрины)"
   ]
  },
  {
   "cell_type": "code",
   "execution_count": 2,
   "id": "f73cab85",
   "metadata": {},
   "outputs": [],
   "source": [
    "from utils.aviasales_parser import parse_page, list_dates, get_ticket"
   ]
  },
  {
   "cell_type": "code",
   "execution_count": 3,
   "id": "8562db9f",
   "metadata": {
    "scrolled": false
   },
   "outputs": [],
   "source": [
    "from itertools import product\n",
    "\n",
    "from tqdm import tqdm_notebook as tqdm\n",
    "\n",
    "from datetime import datetime, timedelta\n",
    "import time\n",
    "\n",
    "import pandas as pd\n",
    "import warnings\n",
    "warnings.filterwarnings(\"ignore\")\n",
    "\n"
   ]
  },
  {
   "cell_type": "code",
   "execution_count": null,
   "id": "064797a5",
   "metadata": {},
   "outputs": [
    {
     "data": {
      "application/vnd.jupyter.widget-view+json": {
       "model_id": "35dbc952e92c470b96931f1d2927ccc5",
       "version_major": 2,
       "version_minor": 0
      },
      "text/plain": [
       "parse ticket:   0%|          | 0/270 [00:00<?, ?it/s]"
      ]
     },
     "metadata": {},
     "output_type": "display_data"
    }
   ],
   "source": [
    "origins =  ['BUD', 'TSR', 'OSI', 'PEV', 'SOB', 'DEB', 'ZAG', 'BEG', 'TGD'] #['LED', 'MOW', 'KZN']\n",
    "destinations = ['HEL', 'TLL']# ['BEG', 'TGD', 'TIA', 'TIV']\n",
    "range_date = ['2023-11-01', '2023-11-15']\n",
    "\n",
    "date_start, date_end = range_date[0], range_date[1]\n",
    "datetime_start = datetime.strptime(date_start, '%Y-%m-%d')\n",
    "datetime_end = datetime.strptime(date_end, '%Y-%m-%d')\n",
    "range_dates = list_dates(datetime_start, datetime_end)\n",
    "\n",
    "parameters = list(product(origins, destinations, list_dates(datetime_start, datetime_end)))\n",
    "\n",
    "for origin, destination, datetime_object in tqdm(parameters, total=len(parameters), desc='parse ticket'):\n",
    "    get_ticket(origin, destination, datetime_object)\n",
    "    \n",
    "    \n",
    "# origins = ['LED', 'MOW', 'KZN'] #\n",
    "# destinations = ['BEG', 'TIV', 'TGD']\n",
    "# range_date = ['2023-12-25', '2024-01-15']\n",
    "\n",
    "    \n",
    "\n",
    "# df = pd.DataFrame(tickets)\n",
    "# df.to_csv('tickets.txt', sep = ';', index = False, encoding='utf-8-sig')"
   ]
  },
  {
   "cell_type": "code",
   "execution_count": null,
   "id": "1f4bd52b",
   "metadata": {},
   "outputs": [],
   "source": []
  }
 ],
 "metadata": {
  "kernelspec": {
   "display_name": "Python 3 (ipykernel)",
   "language": "python",
   "name": "python3"
  },
  "language_info": {
   "codemirror_mode": {
    "name": "ipython",
    "version": 3
   },
   "file_extension": ".py",
   "mimetype": "text/x-python",
   "name": "python",
   "nbconvert_exporter": "python",
   "pygments_lexer": "ipython3",
   "version": "3.9.12"
  }
 },
 "nbformat": 4,
 "nbformat_minor": 5
}
