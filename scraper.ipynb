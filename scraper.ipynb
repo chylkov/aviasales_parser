{
 "cells": [
  {
   "cell_type": "code",
   "execution_count": 1,
   "id": "b73dad56",
   "metadata": {},
   "outputs": [],
   "source": [
    "#https://scrapfly.io/blog/web-scraping-with-selenium-and-python/"
   ]
  },
  {
   "cell_type": "markdown",
   "id": "fbe7c09a",
   "metadata": {},
   "source": [
    "TODO\n",
    "- явно есть ошибки не корретного парсинга, можно найти кейсы по дешевым билетам\n",
    "- сделать через распаралеривание (4-6 потоков)\n",
    "- подумать может сделать без селениума\n",
    "- на сервер запустить скрипт\n",
    "- продумать как парсить билеты туда назад (тупо с двумя длинными списками будет некорректно)\n",
    "- сохранять исходники страниц (или скрины)"
   ]
  },
  {
   "cell_type": "code",
   "execution_count": 2,
   "id": "f73cab85",
   "metadata": {},
   "outputs": [],
   "source": [
    "from bs4 import BeautifulSoup\n",
    "import asyncio"
   ]
  },
  {
   "cell_type": "code",
   "execution_count": 3,
   "id": "8562db9f",
   "metadata": {
    "scrolled": false
   },
   "outputs": [],
   "source": [
    "from parsel import Selector\n",
    "from itertools import product\n",
    "\n",
    "from tqdm import tqdm_notebook as tqdm\n",
    "\n",
    "from datetime import datetime, timedelta\n",
    "from selenium import webdriver\n",
    "from selenium.webdriver.common.by import By\n",
    "from selenium.webdriver.chrome.service import Service\n",
    "from selenium.webdriver.chrome.options import Options\n",
    "from selenium.webdriver.support.ui import WebDriverWait\n",
    "from selenium.webdriver.support import expected_conditions as EC\n",
    "from selenium.common.exceptions import TimeoutException\n",
    "import time\n",
    "\n",
    "import pandas as pd\n",
    "import warnings\n",
    "warnings.filterwarnings(\"ignore\")\n",
    "\n",
    "from webdriver_manager.chrome import ChromeDriverManager\n",
    "\n",
    "from bs4 import BeautifulSoup\n",
    "\n",
    "add_zero = lambda x: '0' + str(x) if len(str(x)) < 2 else str(x)\n",
    "\n",
    "# configure webdriver\n",
    "options = Options()\n",
    "options.headless = True  # hide GUI\n",
    "options.add_argument(\"--window-size=1920,1080\")  # set window size to native GUI size\n",
    "options.add_argument(\"start-maximized\")  # ensure window is full-screen\n",
    "# configure chrome browser to not load images and javascript\n",
    "chrome_options = webdriver.ChromeOptions()\n",
    "chrome_options.add_experimental_option(\n",
    "    \"prefs\", {\"profile.managed_default_content_settings.images\": 2}\n",
    ")\n",
    "\n",
    "service = Service()\n",
    "\n"
   ]
  },
  {
   "cell_type": "code",
   "execution_count": 4,
   "id": "0b73f81f",
   "metadata": {},
   "outputs": [],
   "source": [
    "def get_page(link):\n",
    "\n",
    "    driver.get(link)\n",
    "    time.sleep(20)\n",
    "\n",
    "    try:\n",
    "        element = WebDriverWait(driver, 5).until(EC.element_to_be_clickable((By.XPATH, \"//div[@id='ui-datepicker-div']//a[@class='ui-state-default']\")))\n",
    "    except TimeoutException:\n",
    "        pass\n",
    "    \n",
    "    page = driver.page_source\n",
    "    return page"
   ]
  },
  {
   "cell_type": "code",
   "execution_count": 32,
   "id": "0be8bac0",
   "metadata": {},
   "outputs": [],
   "source": [
    "def get_ticket(page):\n",
    "    soup = BeautifulSoup(page, 'lxml')\n",
    "\n",
    "    prices = soup.find_all('div', attrs={'class':'ticket-desktop__side-container'})\n",
    "\n",
    "    price_ticket = list(map(lambda x: x.find('span', attrs={'data-test-id':'price'}), prices))\n",
    "    price_ticket = list(map(lambda x: x.text.replace('\\u202f','').replace('\\u2009₽',''), price_ticket))\n",
    "    \n",
    "    price_luggage = list(map(lambda x: x.find('div', text='Багаж'), prices))\n",
    "    price_luggage = list(map(lambda x: x.find_next('span').get_text(strip=True) if x else '0',  price_luggage))  \n",
    "    del_words = ['+\\u2009','\\u202f', '\\u2009₽', '₽']\n",
    "    for word in del_words:\n",
    "        price_luggage = list(map(lambda x: x.replace(word,'') if x else '0', price_luggage))\n",
    "    \n",
    "    wo_luggage = list(map(lambda x: 1 if x.find('div', text='Без багажа') else 0, prices))\n",
    "\n",
    "    duration = soup.find_all('div', attrs={'class':'segment-route__duration'})\n",
    "    duration = list(map(lambda x: x.text.replace('В пути:  ',''), duration))\n",
    "\n",
    "    transfer = soup.find_all('div', attrs={'class':'segment-route__path'})\n",
    "    transfer = list(map(lambda x: x.find_all('div', attrs={'class':'segment-route__stop'}), transfer))\n",
    "    transfer = list(map(lambda x: list(map(lambda y: y['data-iatas'], x)), transfer))\n",
    "\n",
    "    number_transfer = list(map(lambda x: len(x), transfer))\n",
    "    transfer = list(map(lambda x: ', '.join(x), transfer))\n",
    "    transfer = list(map(lambda x: x.replace('\\n',\"->\"), transfer))\n",
    "\n",
    "    keys = ['price', 'luggage', 'without_luggage', 'duration', 'transfer', 'number_transfer']\n",
    "\n",
    "    zipped = zip(price_ticket, price_luggage, wo_luggage, duration, transfer, number_transfer)\n",
    "\n",
    "    data = [dict(zip(keys, values)) for values in zipped]\n",
    "    return data"
   ]
  },
  {
   "cell_type": "code",
   "execution_count": 33,
   "id": "bf63d4eb",
   "metadata": {},
   "outputs": [],
   "source": [
    "def list_dates(datetime_start, datetime_end):\n",
    "    delta = timedelta(days = 1)\n",
    "    range_dates = []\n",
    "    date = datetime_start\n",
    "    while date <= datetime_end:\n",
    "        range_dates.append(date)\n",
    "        date = date + delta   \n",
    "    return range_dates"
   ]
  },
  {
   "cell_type": "code",
   "execution_count": null,
   "id": "064797a5",
   "metadata": {},
   "outputs": [
    {
     "data": {
      "application/vnd.jupyter.widget-view+json": {
       "model_id": "9c975bc6177a4fe5a73eb4a6f8cbabe8",
       "version_major": 2,
       "version_minor": 0
      },
      "text/plain": [
       "parse ticket:   0%|          | 0/154 [00:00<?, ?it/s]"
      ]
     },
     "metadata": {},
     "output_type": "display_data"
    }
   ],
   "source": [
    "origins =  ['BUD', 'TSR', 'OSI', 'PEV', 'SOB', 'DEB', 'ZAG'] #['LED', 'MOW', 'KZN']\n",
    "destinations = ['HEL']# ['BEG', 'TGD', 'TIA', 'TIV']\n",
    "range_date = ['2023-10-20', '2023-11-10']\n",
    "number_ticket = 1\n",
    "\n",
    "tickets = []\n",
    "date_start, date_end = range_date[0], range_date[1]\n",
    "datetime_start = datetime.strptime(date_start, '%Y-%m-%d')\n",
    "datetime_end = datetime.strptime(date_end, '%Y-%m-%d')\n",
    "range_dates = list_dates(datetime_start, datetime_end)\n",
    "\n",
    "parameters = list(product(origins, destinations, list_dates(datetime_start, datetime_end)))\n",
    "driver = webdriver.Chrome(options=options, chrome_options=chrome_options, service = service)\n",
    "\n",
    "for origin, destination, datetime_object in tqdm(parameters, total=len(parameters), desc='parse ticket'):\n",
    "    month, day = add_zero(datetime_object.month), add_zero(datetime_object.day)\n",
    "    date = datetime_object.strftime('%Y-%m-%d')\n",
    "    page = get_page('https://www.aviasales.ru/search/' + origin + day + month + destination + str(number_ticket))\n",
    "    tickets_by_date = get_ticket(page)   \n",
    "    tickets_by_date = [dict(item, **{'date':date, 'origin':origin, 'destination':destination}) for item in tickets_by_date]\n",
    "    tickets += tickets_by_date\n",
    "    \n",
    "    \n",
    "# for destination, origin, datetime_object in tqdm(parameters, total=len(parameters), desc='parse ticket'):\n",
    "#     month, day = add_zero(datetime_object.month), add_zero(datetime_object.day)\n",
    "#     date = datetime_object.strftime('%Y-%m-%d')\n",
    "#     page = get_page('https://www.aviasales.ru/search/' + origin + day + month + destination + str(number_ticket))\n",
    "#     tickets_by_date = get_ticket(page)   \n",
    "#     tickets_by_date = [dict(item, **{'date':date, 'origin':origin, 'destination':destination}) for item in tickets_by_date]\n",
    "#     tickets += tickets_by_date\n",
    "    \n",
    "\n",
    "df = pd.DataFrame(tickets)\n",
    "df.to_csv('tickets.txt', sep = ';', index = False, encoding='utf-8-sig')"
   ]
  },
  {
   "cell_type": "code",
   "execution_count": null,
   "id": "e01249dd",
   "metadata": {},
   "outputs": [],
   "source": []
  }
 ],
 "metadata": {
  "kernelspec": {
   "display_name": "Python 3 (ipykernel)",
   "language": "python",
   "name": "python3"
  },
  "language_info": {
   "codemirror_mode": {
    "name": "ipython",
    "version": 3
   },
   "file_extension": ".py",
   "mimetype": "text/x-python",
   "name": "python",
   "nbconvert_exporter": "python",
   "pygments_lexer": "ipython3",
   "version": "3.9.12"
  }
 },
 "nbformat": 4,
 "nbformat_minor": 5
}
