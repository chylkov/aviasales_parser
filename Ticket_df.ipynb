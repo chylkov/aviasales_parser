{
 "cells": [
  {
   "cell_type": "code",
   "execution_count": 38,
   "metadata": {},
   "outputs": [],
   "source": [
    "ACCESS_TOKEN = 'b8848ff67e92768d2d1977862372d796'\n",
    "\n",
    "origin = ['KWE']#'KWE'\n",
    "final_destination = ['LED', 'MOW', 'TLL', 'HEL', 'TSE'] #'LED' 'KLO'[]#\n",
    "range_date = ['2020-01-12', '2020-01-15']\n",
    "#number_place = 0\n",
    "\n",
    "time_sleep = 1\n",
    "date_start, date_end = range_date[0], range_date[1]\n",
    "\n",
    "url = 'http://api.travelpayouts.com/v2/prices/month-matrix'\n",
    "\n",
    "# group = ['DME', 'SVO', 'VKO', 'ZIA']\n",
    "\n",
    "wishful_point = [] #'KLO'\n"
   ]
  },
  {
   "cell_type": "code",
   "execution_count": 39,
   "metadata": {},
   "outputs": [],
   "source": [
    "import requests\n",
    "import json\n",
    "import codecs\n",
    "\n",
    "from itertools import product\n",
    "from tqdm import tqdm_notebook as tqdm\n",
    "\n",
    "from datetime import datetime, timedelta\n",
    "from time import sleep\n",
    "import pandas as pd\n",
    "from selenium import webdriver\n",
    "\n",
    "add_zero = lambda x: '0' + str(x) if len(str(x)) < 2 else str(x)\n",
    "# Используйте тут ваш путь к chromedriver!\n",
    "# chromedriver_path = 'chromedriver.exe'\n",
    "# driver = webdriver.Chrome(executable_path=chromedriver_path) # Этой командой открывается окно Chrome\n",
    "\n"
   ]
  },
  {
   "cell_type": "code",
   "execution_count": 40,
   "metadata": {},
   "outputs": [
    {
     "data": {
      "text/plain": [
       "(5645, 13)"
      ]
     },
     "execution_count": 40,
     "metadata": {},
     "output_type": "execute_result"
    }
   ],
   "source": [
    "df = pd.read_csv('ticket_base.txt')\n",
    "df = df[(df['depart_date'] >= date_start) & (df['depart_date'] <= date_end)]\n",
    "\n",
    "feature = list(df.columns).remove('found_at')\n",
    "\n",
    "df.sort_values(by = 'found_at', ascending=False, inplace=True)\n",
    "df.drop_duplicates(inplace = True, keep = 'first', subset = feature)\n",
    "df.sort_values(by = 'value', inplace=True)\n",
    "\n",
    "\n",
    "df.to_csv('routes_price.txt', index = False)\n",
    "df.shape"
   ]
  },
  {
   "cell_type": "code",
   "execution_count": 41,
   "metadata": {},
   "outputs": [
    {
     "data": {
      "text/plain": [
       "(5306, 13)"
      ]
     },
     "execution_count": 41,
     "metadata": {},
     "output_type": "execute_result"
    }
   ],
   "source": [
    "skip_this = ['KGD', 'KZN', 'VOG', 'ROV', 'PEE', 'NBC', 'UFA', 'OMS', 'NOJ', 'SVX', 'CEK', 'RGK', 'SGC', 'ETH',\n",
    "            'LCA', 'LWN', 'KRO', 'EVN', 'KUT']\n",
    "\n",
    "s = df[~df['origin'].isin(skip_this)]\n",
    "s.shape"
   ]
  },
  {
   "cell_type": "code",
   "execution_count": 42,
   "metadata": {},
   "outputs": [],
   "source": [
    "f = codecs.open('airports.json', encoding='utf-8', mode='r')\n",
    "data = json.load(f)\n",
    "\n",
    "country = list(map(lambda x: x['country_code'], data))\n",
    "cities = list(map(lambda x: x['city_code'], data))\n",
    "zone = list(map(lambda x: x['time_zone'], data))\n",
    "name = list(map(lambda x: x['name'], data))"
   ]
  },
  {
   "cell_type": "code",
   "execution_count": 43,
   "metadata": {},
   "outputs": [],
   "source": [
    "cities_df = pd.DataFrame({'cities':cities, 'zone': zone, 'name': name, 'country_code': country})\n",
    "cities_df.drop_duplicates(inplace = True, keep = 'first', subset = ['cities'])"
   ]
  },
  {
   "cell_type": "code",
   "execution_count": 44,
   "metadata": {},
   "outputs": [],
   "source": [
    "s = s.merge(cities_df, how = 'left', left_on = 'origin', right_on = 'cities')"
   ]
  },
  {
   "cell_type": "code",
   "execution_count": 46,
   "metadata": {},
   "outputs": [
    {
     "data": {
      "text/plain": [
       "(5306, 17)"
      ]
     },
     "execution_count": 46,
     "metadata": {},
     "output_type": "execute_result"
    }
   ],
   "source": [
    "\n",
    "s.to_csv('routes_price2.txt', index = False)\n",
    "s.shape"
   ]
  },
  {
   "cell_type": "code",
   "execution_count": null,
   "metadata": {},
   "outputs": [],
   "source": []
  }
 ],
 "metadata": {
  "kernelspec": {
   "display_name": "Python 3",
   "language": "python",
   "name": "python3"
  },
  "language_info": {
   "codemirror_mode": {
    "name": "ipython",
    "version": 3
   },
   "file_extension": ".py",
   "mimetype": "text/x-python",
   "name": "python",
   "nbconvert_exporter": "python",
   "pygments_lexer": "ipython3",
   "version": "3.7.3"
  }
 },
 "nbformat": 4,
 "nbformat_minor": 2
}
