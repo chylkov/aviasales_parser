{
 "cells": [
  {
   "cell_type": "markdown",
   "metadata": {},
   "source": [
    "0.когда точек отправления 2 и более сделеать\n",
    "0. умная фильтрация по столбцам (все одинаковые фичи шли подряд)\n",
    "1. сделать сохранение стоимости в локальном файле (чтобы не дергать лишний раз api)\n",
    "2. составление маршрутов когда 2 и более точек\n",
    "3. при фильтрации добавить duration (когда сравниваю две даты)\n",
    "4. реализовать систему весов для сортировки\n"
   ]
  },
  {
   "cell_type": "code",
   "execution_count": 1,
   "metadata": {},
   "outputs": [],
   "source": [
    "#!pip install selenium"
   ]
  },
  {
   "cell_type": "code",
   "execution_count": 2,
   "metadata": {},
   "outputs": [],
   "source": [
    "# https://support.travelpayouts.com/hc/ru/categories/200358578-API-%D0%B8-%D0%B4%D0%B0%D0%BD%D0%BD%D1%8B%D0%B5\n",
    "# https://support.travelpayouts.com/hc/ru/articles/203956163-Aviasales-API-%D0%B4%D0%BE%D1%81%D1%82%D1%83%D0%BF%D0%B0-%D0%BA-%D0%B4%D0%B0%D0%BD%D0%BD%D1%8B%D0%BC-%D0%B4%D0%BB%D1%8F-%D1%83%D1%87%D0%B0%D1%81%D1%82%D0%BD%D0%B8%D0%BA%D0%BE%D0%B2-%D0%BF%D0%B0%D1%80%D1%82%D0%BD%D0%B5%D1%80%D1%81%D0%BA%D0%BE%D0%B9-%D0%BF%D1%80%D0%BE%D0%B3%D1%80%D0%B0%D0%BC%D0%BC%D1%8B#15"
   ]
  },
  {
   "cell_type": "code",
   "execution_count": 3,
   "metadata": {},
   "outputs": [],
   "source": [
    "import requests\n",
    "import json\n",
    "import codecs\n",
    "\n",
    "from itertools import product\n",
    "from tqdm import tqdm_notebook as tqdm\n",
    "\n",
    "from datetime import datetime, timedelta\n",
    "from time import sleep\n",
    "import pandas as pd\n",
    "from selenium import webdriver\n",
    "\n",
    "add_zero = lambda x: '0' + str(x) if len(str(x)) < 2 else str(x)\n",
    "# Используйте тут ваш путь к chromedriver!\n",
    "chromedriver_path = 'chromedriver.exe'\n",
    "driver = webdriver.Chrome(executable_path=chromedriver_path) # Этой командой открывается окно Chrome"
   ]
  },
  {
   "cell_type": "code",
   "execution_count": 4,
   "metadata": {},
   "outputs": [],
   "source": [
    "def list_dates(datetime_start, datetime_end):\n",
    "    delta = timedelta(days = 1)\n",
    "    range_dates = []\n",
    "    date = datetime_start\n",
    "    while date <= datetime_end:\n",
    "        range_dates.append(date)\n",
    "        date = date + delta   \n",
    "    return range_dates\n",
    "\n",
    "def open_browser_query():\n",
    "    try:\n",
    "        with open('browser_query.json', encoding='utf-8', mode = 'r') as file:\n",
    "            browser_query = json.load(file)\n",
    "    except FileNotFoundError:\n",
    "        browser_query = []\n",
    "    return browser_query\n",
    "\n",
    "def write_browser_query(browser_query):\n",
    "    with open('browser_query.json', encoding='utf-8', mode = 'w') as file:\n",
    "        json.dump(browser_query, file)    "
   ]
  },
  {
   "cell_type": "code",
   "execution_count": 5,
   "metadata": {},
   "outputs": [],
   "source": [
    "def check_browser_query(date, origin, destination): \n",
    "    rewrite = True\n",
    "    browser_query = open_browser_query()\n",
    "    current_time = datetime.now() - timedelta(days = 1)\n",
    "\n",
    "    browser_query = list(filter(lambda x: datetime.strptime(x['timestamp'], \n",
    "                                                            '%Y-%m-%d %H:%M:%S') > current_time, browser_query))\n",
    "    \n",
    "    checker = list(filter(lambda x: ((x['date'] == date) & (x['origin'] == origin) & \n",
    "                                     (x['destination'] == destination)), browser_query))\n",
    "    \n",
    "    if len(checker) != 0: rewrite = False\n",
    "    write_browser_query(browser_query)            \n",
    "    return rewrite   \n",
    "\n",
    "def add_browser_query(date, origin, destination): \n",
    "    browser_query = open_browser_query()\n",
    "    browser_query.append({'date':date, 'origin':origin, \n",
    "         'destination':destination, 'timestamp':datetime.now().strftime('%Y-%m-%d %H:%M:%S')})\n",
    "    write_browser_query(browser_query)  "
   ]
  },
  {
   "cell_type": "code",
   "execution_count": 6,
   "metadata": {},
   "outputs": [],
   "source": [
    "def get_price_routes(datetime_start, datetime_end, origin, destination_list):\n",
    "    \n",
    "    parameters = list(product(list_dates(datetime_start, datetime_end), destination_list))\n",
    "    \n",
    "    for datetime_object, destination in tqdm(parameters, total=len(parameters), desc='send_query_for_' + origin):\n",
    "        month, day = add_zero(datetime_object.month), add_zero(datetime_object.day)\n",
    "        date = datetime_object.strftime('%Y-%m-%d')\n",
    "\n",
    "        url_for_cash = f'https://www.aviasales.ru/search/{origin}{day}{month}{destination}1'\n",
    "        \n",
    "        if check_browser_query(date, origin, destination):\n",
    "            driver.get(url_for_cash)\n",
    "            sleep(time_sleep)\n",
    "            while \"Извините, доступ к поиску\" in driver.page_source:\n",
    "                print(datetime.now().strftime('%Y-%m-%d %H:%M:%S'), 'sleeping 20 minutes')\n",
    "                sleep(1200)\n",
    "                driver.get(url_for_cash)\n",
    "            \n",
    "            add_browser_query(date, origin, destination)\n",
    "                \n",
    "    tickets = []\n",
    "    for datetime_object, destination in tqdm(parameters, total=len(parameters), desc='get_price_from_' + origin):\n",
    "\n",
    "        params = {'currency': 'rub', 'show_to_affiliates':'false', 'token' : ACCESS_TOKEN, 'one_way':'true',\n",
    "                'origin': origin, 'destination': destination, 'month':date}\n",
    "        response = requests.get(url, params=params)\n",
    "        \n",
    "        if 'errors' not in json.loads(response.text)['data']:\n",
    "            tickets = tickets + json.loads(response.text)['data']          \n",
    "    \n",
    "    return tickets"
   ]
  },
  {
   "cell_type": "code",
   "execution_count": 7,
   "metadata": {},
   "outputs": [],
   "source": [
    "# f = codecs.open('airports.json', encoding='utf-8', mode='r')\n",
    "# data = json.load(f)"
   ]
  },
  {
   "cell_type": "code",
   "execution_count": 8,
   "metadata": {},
   "outputs": [],
   "source": [
    "url = 'http://api.travelpayouts.com/data/routes.json'\n",
    "routes = json.loads(requests.get(url).text)"
   ]
  },
  {
   "cell_type": "code",
   "execution_count": null,
   "metadata": {},
   "outputs": [],
   "source": [
    "ACCESS_TOKEN = 'b8848ff67e92768d2d1977862372d796'\n",
    "\n",
    "origin = 'KWE' #'KWE'\n",
    "final_destination = ['LED', 'MOW'] #'LED' 'KLO'\n",
    "range_date = ['2020-01-07', '2020-01-15']\n",
    "number_place = 2\n",
    "\n",
    "time_sleep = 3\n",
    "date_start, date_end = range_date[0], range_date[1]\n",
    "\n",
    "url = 'http://api.travelpayouts.com/v2/prices/month-matrix'\n",
    "\n",
    "datetime_start = datetime.strptime(date_start, '%Y-%m-%d')\n",
    "datetime_end = datetime.strptime(date_end, '%Y-%m-%d')"
   ]
  },
  {
   "cell_type": "code",
   "execution_count": null,
   "metadata": {},
   "outputs": [
    {
     "data": {
      "application/vnd.jupyter.widget-view+json": {
       "model_id": "b22339ec0d0a4837a171576b302f8732",
       "version_major": 2,
       "version_minor": 0
      },
      "text/plain": [
       "HBox(children=(IntProgress(value=0, description='send_query_for_KWE', max=1017, style=ProgressStyle(descriptio…"
      ]
     },
     "metadata": {},
     "output_type": "display_data"
    },
    {
     "name": "stdout",
     "output_type": "stream",
     "text": [
      "\n"
     ]
    },
    {
     "data": {
      "application/vnd.jupyter.widget-view+json": {
       "model_id": "a2aa3f73a891443894128861b8a333e5",
       "version_major": 2,
       "version_minor": 0
      },
      "text/plain": [
       "HBox(children=(IntProgress(value=0, description='get_price_from_KWE', max=1017, style=ProgressStyle(descriptio…"
      ]
     },
     "metadata": {},
     "output_type": "display_data"
    },
    {
     "name": "stdout",
     "output_type": "stream",
     "text": [
      "\n"
     ]
    },
    {
     "data": {
      "application/vnd.jupyter.widget-view+json": {
       "model_id": "e8ff7bb00fef4fc9af6d3754338cb3f7",
       "version_major": 2,
       "version_minor": 0
      },
      "text/plain": [
       "HBox(children=(IntProgress(value=0, description='for_1_point_destination', max=36, style=ProgressStyle(descrip…"
      ]
     },
     "metadata": {},
     "output_type": "display_data"
    },
    {
     "data": {
      "application/vnd.jupyter.widget-view+json": {
       "model_id": "ae3a8b8256c54b3db6e89c47e10e8a9a",
       "version_major": 2,
       "version_minor": 0
      },
      "text/plain": [
       "HBox(children=(IntProgress(value=0, description='send_query_for_XUZ', max=162, style=ProgressStyle(description…"
      ]
     },
     "metadata": {},
     "output_type": "display_data"
    },
    {
     "data": {
      "application/vnd.jupyter.widget-view+json": {
       "model_id": "9678d812315d4ad7854774c36c06fe47",
       "version_major": 2,
       "version_minor": 0
      },
      "text/plain": [
       "HBox(children=(IntProgress(value=0, description='get_price_from_XUZ', max=162, style=ProgressStyle(description…"
      ]
     },
     "metadata": {},
     "output_type": "display_data"
    },
    {
     "data": {
      "application/vnd.jupyter.widget-view+json": {
       "model_id": "e3f996864c6345b5baab01f2c0965fe4",
       "version_major": 2,
       "version_minor": 0
      },
      "text/plain": [
       "HBox(children=(IntProgress(value=0, description='send_query_for_HFE', max=729, style=ProgressStyle(description…"
      ]
     },
     "metadata": {},
     "output_type": "display_data"
    },
    {
     "name": "stdout",
     "output_type": "stream",
     "text": [
      "2019-10-29 09:39:26 sleeping 20 minutes\n"
     ]
    }
   ],
   "source": [
    "tickets_list = []\n",
    "\n",
    "destination_list = list(filter(lambda x: x['departure_airport_iata'] == origin, routes))\n",
    "destination_list = list(map(lambda x: x['arrival_airport_iata'],destination_list))\n",
    "        \n",
    "tickets_list.append(get_price_routes(datetime_start, datetime_end, origin, destination_list))   \n",
    "\n",
    "for change in range(number_place):\n",
    "    ponts_list =  list(set(map(lambda x: x['destination'], tickets_list[change])))\n",
    "    tickets = []\n",
    "    if change + 1 < number_place:  \n",
    "        for point in tqdm(ponts_list, desc=f'for_{change + 1}_point_destination'):\n",
    "            destination_list = list(filter(lambda x: x['departure_airport_iata'] == point, routes))\n",
    "            destination_list = list(map(lambda x: x['arrival_airport_iata'],destination_list))    \n",
    "            tickets = tickets + get_price_routes(datetime_start, datetime_end, point, destination_list)\n",
    "    else:\n",
    "        for point in tqdm(ponts_list, desc=f'for_{change + 1}_point_destination'):\n",
    "            destination_list = final_destination\n",
    "            tickets = tickets + get_price_routes(datetime_start, datetime_end, point, destination_list)\n",
    "        \n",
    "    tickets_list.append(tickets)  \n",
    "\n",
    "tickets = [item for tickets in tickets_list for item in tickets]\n",
    "        \n",
    "df = pd.DataFrame(tickets)\n",
    "\n",
    "feature = list(df.columns)\n",
    "feature.remove('found_at')\n",
    "\n",
    "df.sort_values(by = 'found_at', ascending=False, inplace=True)\n",
    "df.drop_duplicates(inplace = True, keep = 'first', subset = feature)\n",
    "\n",
    "df.to_csv('routes_price.txt', index = False)"
   ]
  },
  {
   "cell_type": "code",
   "execution_count": null,
   "metadata": {},
   "outputs": [],
   "source": [
    "route_feature = ['depart_date', 'origin', 'destination', 'distance', \n",
    "                 'duration', 'number_of_changes', 'value']\n",
    "\n",
    "df_route = df[df['origin'] == origin][route_feature]\n",
    "\n",
    "for change in range(number_place):\n",
    "    \n",
    "    if change == 0:\n",
    "        df_route = df_route.merge(df[route_feature], \n",
    "                                           how = 'left', left_on = 'destination', \n",
    "                                           right_on = 'origin', suffixes = ['_from', ''])\n",
    "        \n",
    "        df_route.rename(columns={x:x + '_' + str(change + 1) for x in route_feature}, inplace = True)\n",
    "\n",
    "        df_route = df_route[df_route['depart_date_from'] <= df_route['depart_date_' + str(change + 1)]]\n",
    "    else:\n",
    "        df_route = df_route.merge(df[route_feature], \n",
    "                                           how = 'left', left_on = 'destination_' + str(change), \n",
    "                                           right_on = 'origin')\n",
    "        \n",
    "        df_route.rename(columns={x:x + '_' + str(change + 1) for x in route_feature}, inplace = True)\n",
    "        df_route = df_route[df_route['depart_date_' + str(change)] <= df_route['depart_date_' + str(change+1)]]\n",
    "\n",
    "\n",
    "value_list = list(filter(lambda x: x[:5] == 'value', list(df_route.columns)))\n",
    "df_route['total_value'] =  df_route[value_list].sum(axis = 1)\n",
    "\n",
    "#df_route = df_route[(df_route['depart_date_from'] >= date_start) & (df_route['depart_date_to'] <= date_end)]\n",
    "\n",
    "df_route.sort_values(by = ['total_value', 'depart_date_from'] , inplace = True)\n",
    "\n",
    "df_route = df_route[df_route['destination' + str(change+1)].isin(final_destination)]\n",
    "\n",
    "df_route.reset_index(drop=True, inplace = True)"
   ]
  },
  {
   "cell_type": "code",
   "execution_count": null,
   "metadata": {},
   "outputs": [],
   "source": []
  }
 ],
 "metadata": {
  "kernelspec": {
   "display_name": "Python 3",
   "language": "python",
   "name": "python3"
  },
  "language_info": {
   "codemirror_mode": {
    "name": "ipython",
    "version": 3
   },
   "file_extension": ".py",
   "mimetype": "text/x-python",
   "name": "python",
   "nbconvert_exporter": "python",
   "pygments_lexer": "ipython3",
   "version": "3.7.3"
  }
 },
 "nbformat": 4,
 "nbformat_minor": 2
}
