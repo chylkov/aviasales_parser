{
 "cells": [
  {
   "cell_type": "markdown",
   "metadata": {},
   "source": [
    "1. перебор сдлеать в виде функции\n",
    "2. сделать вначале отправку запроса в браузер, а потом сбор json (чтобы навярняка были цены в кеше\n",
    "3. после получения таблицы сделать алгоритм подбора маршрута с сортировкой от самого дешевого"
   ]
  },
  {
   "cell_type": "code",
   "execution_count": 19,
   "metadata": {},
   "outputs": [],
   "source": [
    "#!pip install selenium"
   ]
  },
  {
   "cell_type": "code",
   "execution_count": 64,
   "metadata": {},
   "outputs": [],
   "source": [
    "# https://support.travelpayouts.com/hc/ru/categories/200358578-API-%D0%B8-%D0%B4%D0%B0%D0%BD%D0%BD%D1%8B%D0%B5\n",
    "# https://support.travelpayouts.com/hc/ru/articles/203956163-Aviasales-API-%D0%B4%D0%BE%D1%81%D1%82%D1%83%D0%BF%D0%B0-%D0%BA-%D0%B4%D0%B0%D0%BD%D0%BD%D1%8B%D0%BC-%D0%B4%D0%BB%D1%8F-%D1%83%D1%87%D0%B0%D1%81%D1%82%D0%BD%D0%B8%D0%BA%D0%BE%D0%B2-%D0%BF%D0%B0%D1%80%D1%82%D0%BD%D0%B5%D1%80%D1%81%D0%BA%D0%BE%D0%B9-%D0%BF%D1%80%D0%BE%D0%B3%D1%80%D0%B0%D0%BC%D0%BC%D1%8B#15"
   ]
  },
  {
   "cell_type": "code",
   "execution_count": 1,
   "metadata": {},
   "outputs": [],
   "source": [
    "import requests\n",
    "import re\n",
    "import json\n",
    "\n",
    "from itertools import product\n",
    "from tqdm import tqdm\n",
    "\n",
    "from datetime import datetime\n",
    "from datetime import timedelta\n",
    "\n",
    "from time import sleep, strftime\n",
    "import pandas as pd\n",
    "from selenium import webdriver\n",
    "\n",
    "# Используйте тут ваш путь к chromedriver!\n",
    "chromedriver_path = 'chromedriver.exe'\n",
    "\n",
    "driver = webdriver.Chrome(executable_path=chromedriver_path) # Этой командой открывается окно Chrome\n",
    "\n",
    "\n",
    "add_zero = lambda x: '0' + str(x) if len(str(x)) < 2 else str(x)\n",
    "\n",
    "def range_date(datetime_start, datetime_end):\n",
    "    delta = timedelta(days = 1)\n",
    "    range_dates = []\n",
    "    date = datetime_start\n",
    "    while date <= datetime_end:\n",
    "        range_dates.append(date)\n",
    "        date = date + delta\n",
    "    \n",
    "    return range_dates\n",
    "\n",
    "\n"
   ]
  },
  {
   "cell_type": "code",
   "execution_count": 2,
   "metadata": {},
   "outputs": [],
   "source": [
    "import json\n",
    "import codecs\n",
    "f = codecs.open('airports.json', encoding='utf-8', mode='r')\n",
    "data = json.load(f)\n"
   ]
  },
  {
   "cell_type": "code",
   "execution_count": 3,
   "metadata": {},
   "outputs": [],
   "source": [
    "url = 'http://api.travelpayouts.com/data/routes.json'\n",
    "response = requests.get(url)\n",
    "routes = json.loads(response.text)"
   ]
  },
  {
   "cell_type": "code",
   "execution_count": 4,
   "metadata": {},
   "outputs": [],
   "source": [
    "ACCESS_TOKEN = 'b8848ff67e92768d2d1977862372d796'"
   ]
  },
  {
   "cell_type": "code",
   "execution_count": 5,
   "metadata": {},
   "outputs": [
    {
     "name": "stderr",
     "output_type": "stream",
     "text": [
      "100%|████████████████████████████████████████████████████████████████████████████████████| 9/9 [00:28<00:00,  2.92s/it]\n",
      "100%|████████████████████████████████████████████████████████████████████████████████████| 9/9 [00:02<00:00,  4.28it/s]\n",
      "100%|████████████████████████████████████████████████████████████████████████████████████| 9/9 [00:22<00:00,  2.56s/it]\n",
      "100%|████████████████████████████████████████████████████████████████████████████████████| 9/9 [00:02<00:00,  4.20it/s]\n"
     ]
    }
   ],
   "source": [
    "origin = 'KWE' #'KWE'\n",
    "final_destination = 'LED' #'LED' 'KLO'\n",
    "\n",
    "time_sleep = 2\n",
    "\n",
    "destination_list = list(filter(lambda x: x['departure_airport_iata'] == origin, routes))\n",
    "destination_list = list(map(lambda x: x['arrival_airport_iata'],destination_list))\n",
    "\n",
    "date_start = '2020-01-07'\n",
    "date_end = '2020-01-15'\n",
    "\n",
    "url = 'http://api.travelpayouts.com/v2/prices/month-matrix'\n",
    "\n",
    "datetime_start = datetime.strptime(date_start, '%Y-%m-%d')\n",
    "datetime_end = datetime.strptime(date_end, '%Y-%m-%d')\n",
    "\n",
    "tickets = []\n",
    "\n",
    "parameters = list(product(range_date(datetime_start, datetime_end), destination_list[:1]))\n",
    "\n",
    "for datetime_object, destination in tqdm(parameters, total=len(parameters)):\n",
    "    month, day = add_zero(datetime_object.month), add_zero(datetime_object.day)\n",
    "    date = datetime_object.strftime('%Y-%m-%d')\n",
    "    \n",
    "    url_for_cash = f'https://www.aviasales.ru/search/{origin}{day}{month}{destination}1'\n",
    "    driver.get(url_for_cash)\n",
    "    sleep(time_sleep)\n",
    "    \n",
    "for datetime_object, destination in tqdm(parameters, total=len(parameters)):\n",
    "    \n",
    "    params = {'currency': 'rub', 'show_to_affiliates':'false', 'token' : ACCESS_TOKEN, 'one_way':'true',\n",
    "            'origin': origin, 'destination': destination, 'month':date}\n",
    "\n",
    "    response = requests.get(url, params=params)\n",
    "    \n",
    "    if 'errors' not in json.loads(response.text)['data']:\n",
    "        tickets = tickets + json.loads(response.text)['data']\n",
    "        \n",
    "        \n",
    "ponts_list =  list(set(map(lambda x: x['destination'], tickets)))\n",
    "parameters = list(product(range_date(datetime_start, datetime_end), ponts_list[:1]))\n",
    "\n",
    "tickets2 = []\n",
    "for datetime_object, point in tqdm(parameters, total=len(parameters)):\n",
    "    month, day = add_zero(datetime_object.month), add_zero(datetime_object.day)\n",
    "    date = datetime_object.strftime('%Y-%m-%d')\n",
    "    \n",
    "    url_for_cash = f'https://www.aviasales.ru/search/{origin}{day}{month}{destination}1'\n",
    "    driver.get(url_for_cash)\n",
    "    sleep(time_sleep)\n",
    "    \n",
    "for datetime_object, point in tqdm(parameters, total=len(parameters)):\n",
    "    \n",
    "    params = {'currency': 'rub', 'show_to_affiliates':'false', 'token' : ACCESS_TOKEN, 'one_way':'true',\n",
    "            'origin': point, 'destination': final_destination, 'month':date}\n",
    "\n",
    "    response = requests.get(url, params=params)\n",
    "    \n",
    "    if 'errors' not in json.loads(response.text)['data']:\n",
    "        tickets2 = tickets2 + json.loads(response.text)['data']\n",
    "        \n",
    "df = pd.DataFrame(tickets + tickets2)\n",
    "df.to_csv('test.txt')\n"
   ]
  },
  {
   "cell_type": "code",
   "execution_count": 9,
   "metadata": {},
   "outputs": [],
   "source": []
  },
  {
   "cell_type": "code",
   "execution_count": null,
   "metadata": {},
   "outputs": [],
   "source": []
  }
 ],
 "metadata": {
  "kernelspec": {
   "display_name": "Python 3",
   "language": "python",
   "name": "python3"
  },
  "language_info": {
   "codemirror_mode": {
    "name": "ipython",
    "version": 3
   },
   "file_extension": ".py",
   "mimetype": "text/x-python",
   "name": "python",
   "nbconvert_exporter": "python",
   "pygments_lexer": "ipython3",
   "version": "3.7.3"
  }
 },
 "nbformat": 4,
 "nbformat_minor": 2
}
