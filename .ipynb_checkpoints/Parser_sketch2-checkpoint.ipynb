{
 "cells": [
  {
   "cell_type": "markdown",
   "metadata": {},
   "source": [
    "0. после выполнения крипта на загрузку данных в гит отпралялась база\n",
    "0. очистка ticket base после полной загрузки\n",
    "0. умный перебор: смотреть если перелет из точки А в точку B и в точку C (если нет из B в C то А в B не нужно)\n",
    "\n",
    "\n",
    "0. когда точек отправления 2 и более сделеать\n",
    "0. умная фильтрация по столбцам (все одинаковые фичи шли подряд)\n",
    "0. составление маршрутов когда 2 и более точек\n",
    "0. при фильтрации добавить duration (когда сравниваю две даты)\n",
    "0. реализовать систему весов для сортировки\n",
    "0. киллер фича, это учет часовых поясов аэропортов, даты начала рейса, продолжительности для высчитывания во сколько ты прилетаешь\n",
    "0. продумать как json дозаписывать\n",
    "0. сделать нормальную функцию группировки\n"
   ]
  },
  {
   "cell_type": "code",
   "execution_count": 1,
   "metadata": {},
   "outputs": [],
   "source": [
    "#!pip install selenium"
   ]
  },
  {
   "cell_type": "code",
   "execution_count": 2,
   "metadata": {},
   "outputs": [],
   "source": [
    "# https://support.travelpayouts.com/hc/ru/categories/200358578-API-%D0%B8-%D0%B4%D0%B0%D0%BD%D0%BD%D1%8B%D0%B5\n",
    "# https://support.travelpayouts.com/hc/ru/articles/203956163-Aviasales-API-%D0%B4%D0%BE%D1%81%D1%82%D1%83%D0%BF%D0%B0-%D0%BA-%D0%B4%D0%B0%D0%BD%D0%BD%D1%8B%D0%BC-%D0%B4%D0%BB%D1%8F-%D1%83%D1%87%D0%B0%D1%81%D1%82%D0%BD%D0%B8%D0%BA%D0%BE%D0%B2-%D0%BF%D0%B0%D1%80%D1%82%D0%BD%D0%B5%D1%80%D1%81%D0%BA%D0%BE%D0%B9-%D0%BF%D1%80%D0%BE%D0%B3%D1%80%D0%B0%D0%BC%D0%BC%D1%8B#15"
   ]
  },
  {
   "cell_type": "code",
   "execution_count": 14,
   "metadata": {},
   "outputs": [],
   "source": [
    "ACCESS_TOKEN = 'b8848ff67e92768d2d1977862372d796'\n",
    "\n",
    "origin = ['KWE']#'KWE'\n",
    "final_destination = ['LED', 'MOW'] #'LED' 'KLO'\n",
    "range_date = ['2020-01-07', '2020-01-15']\n",
    "number_place = 2\n",
    "\n",
    "time_sleep = 3\n",
    "date_start, date_end = range_date[0], range_date[1]\n",
    "\n",
    "url = 'http://api.travelpayouts.com/v2/prices/month-matrix'\n",
    "\n",
    "moscow = ['DME', 'SVO', 'VKO', 'ZIA']\n"
   ]
  },
  {
   "cell_type": "code",
   "execution_count": 4,
   "metadata": {},
   "outputs": [],
   "source": [
    "import requests\n",
    "import json\n",
    "import codecs\n",
    "\n",
    "from itertools import product\n",
    "from tqdm import tqdm_notebook as tqdm\n",
    "\n",
    "from datetime import datetime, timedelta\n",
    "from time import sleep\n",
    "import pandas as pd\n",
    "from selenium import webdriver\n",
    "\n",
    "add_zero = lambda x: '0' + str(x) if len(str(x)) < 2 else str(x)\n",
    "# Используйте тут ваш путь к chromedriver!\n",
    "chromedriver_path = 'chromedriver.exe'\n",
    "driver = webdriver.Chrome(executable_path=chromedriver_path) # Этой командой открывается окно Chrome\n",
    "\n"
   ]
  },
  {
   "cell_type": "code",
   "execution_count": 15,
   "metadata": {},
   "outputs": [],
   "source": [
    "url_routes = 'http://api.travelpayouts.com/data/routes.json'\n",
    "routes = json.loads(requests.get(url_routes).text)\n",
    "route_chain = list(map(lambda x: [x['departure_airport_iata'], x['arrival_airport_iata']], routes))\n",
    "\n",
    "def group_airport(route, moscow = moscow):\n",
    "    if route[1] in moscow: route[1] = 'MOW'\n",
    "    if route[0] in moscow: route[0] = 'MOW'\n",
    "    return route\n",
    "\n",
    "route_chain = list(map(group_airport, route_chain))\n",
    "route_chain = list(set(map(lambda x: tuple(x), route_chain)))"
   ]
  },
  {
   "cell_type": "code",
   "execution_count": 6,
   "metadata": {},
   "outputs": [],
   "source": [
    "def get_next_chain(arrivals, route_chain, final_destination, final = False):\n",
    "    if final:\n",
    "        next_chain = filter(lambda x: (x[0] in arrivals) & (x[1] in final_destination), route_chain)\n",
    "    else:\n",
    "        next_chain = filter(lambda x: x[0] in arrivals, route_chain)\n",
    "    return next_chain\n",
    "\n",
    "def get_arrivals(required_routes):\n",
    "    if type(required_routes[0][0]) == str:\n",
    "        arrivals = list(map(lambda x: x[1], required_routes))\n",
    "    else: \n",
    "        arrivals = list(set(map(lambda x: x[-1][1], required_routes)))\n",
    "    return arrivals\n",
    "\n",
    "def get_product(required_routes, next_chain):\n",
    "    if type(required_routes[0][0]) == str:\n",
    "        required_routes = list(filter(lambda x: x[-2][1] == x[-1][0], product(required_routes, next_chain)))\n",
    "    else: \n",
    "        required_routes = list(filter(lambda x: x[-2][-1][1] == x[-1][0], product(required_routes, next_chain)))\n",
    "    return required_routes\n",
    "\n",
    "def get_routes(origin, final_destination, route_chain, number_flights = 4):\n",
    "    if number_flights == 1:\n",
    "        required_routes = list(set(filter(lambda x: (x[0] in origin) & (x[1] in final_destination), route_chain)))\n",
    "    else:\n",
    "        required_routes = list(set(filter(lambda x: x[0] in origin, route_chain)))\n",
    "        for n in range(1, number_flights):\n",
    "            arrivals = get_arrivals(required_routes)\n",
    "            if n + 1 == number_flights:\n",
    "                next_chain = get_next_chain(arrivals, route_chain, final_destination, True)\n",
    "            else:    \n",
    "                next_chain = get_next_chain(arrivals, route_chain, final_destination)\n",
    "            required_routes = get_product(required_routes, next_chain)           \n",
    "    return required_routes\n",
    "\n",
    "def flat_route(route):\n",
    "    root = route\n",
    "    result = []\n",
    "    while type(root[-2]) != str:\n",
    "        result.append(root[-1])\n",
    "        root = root[-2]\n",
    "        \n",
    "    result.append(root)\n",
    "    result.reverse()\n",
    "    return result"
   ]
  },
  {
   "cell_type": "code",
   "execution_count": 16,
   "metadata": {},
   "outputs": [],
   "source": [
    "required_routes = get_routes(origin, final_destination, route_chain, number_flights = 4)\n",
    "required_routes = list(map(flat_route, required_routes))"
   ]
  },
  {
   "cell_type": "code",
   "execution_count": 37,
   "metadata": {},
   "outputs": [],
   "source": [
    "def list_dates(datetime_start, datetime_end):\n",
    "    delta = timedelta(days = 1)\n",
    "    range_dates = []\n",
    "    date = datetime_start\n",
    "    while date <= datetime_end:\n",
    "        range_dates.append(date)\n",
    "        date = date + delta   \n",
    "    return range_dates\n",
    "\n",
    "def open_json(path):\n",
    "    try:\n",
    "        with open(path, encoding='utf-8', mode = 'r') as file:\n",
    "            json_base = json.load(file)\n",
    "    except FileNotFoundError:\n",
    "        json_base = []\n",
    "    return json_base\n",
    "\n",
    "def write_json(path, json_base):\n",
    "    with open(path, encoding='utf-8', mode = 'w') as file:\n",
    "        json.dump(json_base, file)    "
   ]
  },
  {
   "cell_type": "code",
   "execution_count": 38,
   "metadata": {},
   "outputs": [],
   "source": [
    "def get_destinations(routes, origin):\n",
    "    destination_list = list(filter(lambda x: x['departure_airport_iata'] == origin, routes))\n",
    "    destination_list = list(set(map(lambda x: x['arrival_airport_iata'],destination_list)))\n",
    "    return destination_list"
   ]
  },
  {
   "cell_type": "code",
   "execution_count": 39,
   "metadata": {},
   "outputs": [],
   "source": [
    "def update_browser_query(path, days = 2):\n",
    "    browser_query = open_json(path)\n",
    "    current_time = datetime.utcnow() - timedelta(days = days)\n",
    "    browser_query = list(filter(lambda x: datetime.strptime(x['timestamp'], \n",
    "                                                            '%Y-%m-%d %H:%M:%S') > current_time, browser_query))  \n",
    "    write_json(path, browser_query)  \n",
    "\n",
    "def check_browser_query(date, origin, destination): \n",
    "    rewrite = True\n",
    "    browser_query = open_json('browser_query.json')\n",
    "    checker = list(filter(lambda x: ((x['date'] == date) & (x['origin'] == origin) & \n",
    "                                     (x['destination'] == destination)), browser_query))    \n",
    "    if len(checker) != 0: rewrite = False          \n",
    "    return rewrite   \n",
    "\n",
    "def add_browser_query(date, origin, destination): \n",
    "    browser_query = open_json('browser_query.json')\n",
    "    browser_query.append({'date':date, 'origin':origin, \n",
    "         'destination':destination, 'timestamp':datetime.utcnow().strftime('%Y-%m-%d %H:%M:%S')})\n",
    "    write_json('browser_query.json', browser_query)\n"
   ]
  },
  {
   "cell_type": "code",
   "execution_count": 40,
   "metadata": {},
   "outputs": [],
   "source": [
    "def update_price_base(path, days = 1):\n",
    "    ticket_base = open_json(path)\n",
    "    current_time = datetime.utcnow() - timedelta(days = days)   \n",
    "    ticket_base = list(filter(lambda x: datetime.strptime(x['found_at'], \n",
    "                                                            '%Y-%m-%dT%H:%M:%S') > current_time, ticket_base))    \n",
    "    write_json(path, ticket_base)       \n",
    "\n",
    "def check_ticket_price(date, origin, destination): \n",
    "    rewrite = True\n",
    "    ticket_base = open_json('ticket_base.json')       \n",
    "    checker = list(filter(lambda x: ((x['depart_date'] == date) & (x['origin'] == origin) & \n",
    "                                     (x['destination'] == destination)), ticket_base))    \n",
    "    if len(checker) != 0: rewrite = False       \n",
    "    return rewrite\n",
    "\n",
    "def get_ticket_price(date, origin, destination):\n",
    "    ticket_base = open_json('ticket_base.json')\n",
    "    ticket = list(filter(lambda x: ((x['depart_date'] == date) & (x['origin'] == origin) & \n",
    "                                     (x['destination'] == destination)), ticket_base))\n",
    "    return ticket\n",
    "\n",
    "def add_ticket_price(date, origin, destination, ticket): \n",
    "    ticket_base = open_json('ticket_base.json')\n",
    "    ticket_base = ticket_base + ticket\n",
    "    write_json('ticket_base.json', ticket_base)"
   ]
  },
  {
   "cell_type": "code",
   "execution_count": 41,
   "metadata": {},
   "outputs": [],
   "source": [
    "def get_price_routes(datetime_start, datetime_end, required_routes):\n",
    "    \n",
    "    update_price_base('ticket_base.json')\n",
    "    update_browser_query('browser_query.json')\n",
    "    \n",
    "    parameters = list(product(list_dates(datetime_start, datetime_end), required_routes))\n",
    "\n",
    "    for datetime_object, route in tqdm(parameters, total=len(parameters), desc='send_query'):\n",
    "        month, day = add_zero(datetime_object.month), add_zero(datetime_object.day)\n",
    "        date = datetime_object.strftime('%Y-%m-%d')\n",
    "        for chain in route:\n",
    "            origin, destination = chain\n",
    "\n",
    "            url_for_cash = f'https://www.aviasales.ru/search/{origin}{day}{month}{destination}1'\n",
    "        \n",
    "            if check_browser_query(date, origin, destination):\n",
    "                driver.get(url_for_cash)\n",
    "                sleep(time_sleep)\n",
    "                while \"Извините, доступ к поиску\" in driver.page_source:\n",
    "                    print(datetime.now().strftime('%Y-%m-%d %H:%M:%S'), 'sleeping 20 minutes')\n",
    "                    sleep(1200)\n",
    "                    driver.get(url_for_cash)\n",
    "\n",
    "                add_browser_query(date, origin, destination)\n",
    "                \n",
    "    tickets = []\n",
    "    for datetime_object, route in tqdm(parameters, total=len(parameters), desc='get_price_from'):      \n",
    "        date = datetime_object.strftime('%Y-%m-%d')\n",
    "        for chain in route:\n",
    "            origin, destination = chain\n",
    "        \n",
    "            if check_ticket_price(date, origin, destination):\n",
    "                params = {'currency': 'rub', 'show_to_affiliates':'false', 'token' : ACCESS_TOKEN, 'one_way':'true',\n",
    "                        'origin': origin, 'destination': destination, 'month':date}\n",
    "                response = requests.get(url, params=params)\n",
    "                if 'errors' not in json.loads(response.text)['data']:\n",
    "                    ticket = json.loads(response.text)['data']\n",
    "                    add_ticket_price(date, origin, destination, ticket)\n",
    "                    tickets = tickets + ticket  \n",
    "            else:\n",
    "                tickets = tickets + get_ticket_price(date, origin, destination)    \n",
    "    return tickets"
   ]
  },
  {
   "cell_type": "code",
   "execution_count": 42,
   "metadata": {},
   "outputs": [],
   "source": [
    "# f = codecs.open('airports.json', encoding='utf-8', mode='r')\n",
    "# data = json.load(f)"
   ]
  },
  {
   "cell_type": "code",
   "execution_count": null,
   "metadata": {},
   "outputs": [
    {
     "data": {
      "application/vnd.jupyter.widget-view+json": {
       "model_id": "4f80232e10434c1ab3cec63344dd68e2",
       "version_major": 2,
       "version_minor": 0
      },
      "text/plain": [
       "HBox(children=(IntProgress(value=0, description='send_query', max=91899, style=ProgressStyle(description_width…"
      ]
     },
     "metadata": {},
     "output_type": "display_data"
    },
    {
     "name": "stdout",
     "output_type": "stream",
     "text": [
      "2019-10-30 09:04:28 sleeping 20 minutes\n"
     ]
    }
   ],
   "source": [
    "tickets_list = []\n",
    "\n",
    "datetime_start = datetime.strptime(date_start, '%Y-%m-%d')\n",
    "datetime_end = datetime.strptime(date_end, '%Y-%m-%d')\n",
    "\n",
    "#destination_list = get_destinations(routes, origin)\n",
    "\n",
    "tickets_list.append(get_price_routes(datetime_start, datetime_end, required_routes))   \n",
    "\n",
    "# for change in range(number_place):\n",
    "#     ponts_list =  list(set(map(lambda x: x['destination'], tickets_list[change])))\n",
    "#     tickets = []\n",
    "#     for point in tqdm(ponts_list, desc=f'for_{change + 1}_point_destination'):\n",
    "#         if change + 1 < number_place: destination_list = get_destinations(routes, point) + final_destination\n",
    "#         else: destination_list = final_destination\n",
    "#         tickets = tickets + get_price_routes(datetime_start, datetime_end, point, destination_list)    \n",
    "            \n",
    "#     tickets_list.append(tickets)  \n"
   ]
  },
  {
   "cell_type": "code",
   "execution_count": null,
   "metadata": {},
   "outputs": [],
   "source": [
    "!git add ticket_base.json\n",
    "!git add browser_query.json\n",
    "!git commit -m \"update jsons\"\n",
    "!git push origin master"
   ]
  },
  {
   "cell_type": "markdown",
   "metadata": {},
   "source": [
    "### Нужно порабатать с кодом"
   ]
  },
  {
   "cell_type": "code",
   "execution_count": null,
   "metadata": {},
   "outputs": [],
   "source": [
    "df = pd.read_json('ticket_base.json')\n",
    "df = df[(df['depart_date'] >= date_start) & (df['depart_date'] <= date_end)]\n",
    "\n",
    "feature = list(df.columns).remove('found_at')\n",
    "\n",
    "df.sort_values(by = 'found_at', ascending=False, inplace=True)\n",
    "df.drop_duplicates(inplace = True, keep = 'first', subset = feature)\n",
    "\n",
    "df.to_csv('routes_price.txt', index = False)"
   ]
  },
  {
   "cell_type": "code",
   "execution_count": null,
   "metadata": {},
   "outputs": [],
   "source": [
    "route_feature = ['depart_date', 'origin', 'destination', 'distance', \n",
    "                 'duration', 'number_of_changes', 'value']\n",
    "\n",
    "df_route = df[df['origin'] == origin][route_feature]\n",
    "\n",
    "for change in range(number_place):\n",
    "    \n",
    "    if change == 0:\n",
    "        df_route = df_route.merge(df[route_feature], \n",
    "                                           how = 'left', left_on = 'destination', \n",
    "                                           right_on = 'origin', suffixes = ['_from', ''])\n",
    "        \n",
    "        df_route.rename(columns={x:x + '_' + str(change + 1) for x in route_feature}, inplace = True)\n",
    "\n",
    "        df_route = df_route[df_route['depart_date_from'] <= df_route['depart_date_' + str(change + 1)]]\n",
    "    else:\n",
    "        df_route = df_route.merge(df[route_feature], \n",
    "                                           how = 'left', left_on = 'destination_' + str(change), \n",
    "                                           right_on = 'origin')\n",
    "        \n",
    "        df_route.rename(columns={x:x + '_' + str(change + 1) for x in route_feature}, inplace = True)\n",
    "        df_route = df_route[df_route['depart_date_' + str(change)] <= df_route['depart_date_' + str(change+1)]]\n",
    "\n",
    "\n",
    "value_list = list(filter(lambda x: x[:5] == 'value', list(df_route.columns)))\n",
    "df_route['total_value'] =  df_route[value_list].sum(axis = 1)\n",
    "\n",
    "#df_route = df_route[(df_route['depart_date_from'] >= date_start) & (df_route['depart_date_to'] <= date_end)]\n",
    "\n",
    "df_route.sort_values(by = ['total_value', 'depart_date_from'] , inplace = True)\n",
    "\n",
    "df_route = df_route[df_route['destination' + str(change+1)].isin(final_destination)]\n",
    "\n",
    "df_route.reset_index(drop=True, inplace = True)"
   ]
  },
  {
   "cell_type": "code",
   "execution_count": null,
   "metadata": {},
   "outputs": [],
   "source": []
  }
 ],
 "metadata": {
  "kernelspec": {
   "display_name": "Python 3",
   "language": "python",
   "name": "python3"
  },
  "language_info": {
   "codemirror_mode": {
    "name": "ipython",
    "version": 3
   },
   "file_extension": ".py",
   "mimetype": "text/x-python",
   "name": "python",
   "nbconvert_exporter": "python",
   "pygments_lexer": "ipython3",
   "version": "3.7.3"
  }
 },
 "nbformat": 4,
 "nbformat_minor": 2
}
